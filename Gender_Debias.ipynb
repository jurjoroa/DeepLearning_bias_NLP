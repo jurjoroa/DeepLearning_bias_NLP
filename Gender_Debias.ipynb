{
 "cells": [
  {
   "cell_type": "code",
   "execution_count": 19,
   "metadata": {},
   "outputs": [
    {
     "name": "stderr",
     "output_type": "stream",
     "text": [
      "huggingface/tokenizers: The current process just got forked, after parallelism has already been used. Disabling parallelism to avoid deadlocks...\n",
      "To disable this warning, you can either:\n",
      "\t- Avoid using `tokenizers` before the fork if possible\n",
      "\t- Explicitly set the environment variable TOKENIZERS_PARALLELISM=(true | false)\n"
     ]
    },
    {
     "name": "stdout",
     "output_type": "stream",
     "text": [
      "Requirement already satisfied: Dbias in /Users/carlogress/anaconda3/lib/python3.11/site-packages (0.1.5)\n",
      "Requirement already satisfied: pandas>=1.2.4 in /Users/carlogress/anaconda3/lib/python3.11/site-packages (from Dbias) (2.0.3)\n",
      "Requirement already satisfied: numpy>=1.19.5 in /Users/carlogress/anaconda3/lib/python3.11/site-packages (from Dbias) (1.24.3)\n",
      "Requirement already satisfied: spacy>=3.2.1 in /Users/carlogress/anaconda3/lib/python3.11/site-packages (from Dbias) (3.7.2)\n",
      "Requirement already satisfied: transformers>=4.6.1 in /Users/carlogress/anaconda3/lib/python3.11/site-packages (from Dbias) (4.32.1)\n",
      "Requirement already satisfied: tensorflow>=2.4.1 in /Users/carlogress/anaconda3/lib/python3.11/site-packages (from Dbias) (2.15.0)\n",
      "Requirement already satisfied: plotly in /Users/carlogress/anaconda3/lib/python3.11/site-packages (from Dbias) (5.9.0)\n",
      "Requirement already satisfied: python-dateutil>=2.8.2 in /Users/carlogress/anaconda3/lib/python3.11/site-packages (from pandas>=1.2.4->Dbias) (2.8.2)\n",
      "Requirement already satisfied: pytz>=2020.1 in /Users/carlogress/anaconda3/lib/python3.11/site-packages (from pandas>=1.2.4->Dbias) (2023.3.post1)\n",
      "Requirement already satisfied: tzdata>=2022.1 in /Users/carlogress/anaconda3/lib/python3.11/site-packages (from pandas>=1.2.4->Dbias) (2023.3)\n",
      "Requirement already satisfied: spacy-legacy<3.1.0,>=3.0.11 in /Users/carlogress/anaconda3/lib/python3.11/site-packages (from spacy>=3.2.1->Dbias) (3.0.12)\n",
      "Requirement already satisfied: spacy-loggers<2.0.0,>=1.0.0 in /Users/carlogress/anaconda3/lib/python3.11/site-packages (from spacy>=3.2.1->Dbias) (1.0.5)\n",
      "Requirement already satisfied: murmurhash<1.1.0,>=0.28.0 in /Users/carlogress/anaconda3/lib/python3.11/site-packages (from spacy>=3.2.1->Dbias) (1.0.10)\n",
      "Requirement already satisfied: cymem<2.1.0,>=2.0.2 in /Users/carlogress/anaconda3/lib/python3.11/site-packages (from spacy>=3.2.1->Dbias) (2.0.8)\n",
      "Requirement already satisfied: preshed<3.1.0,>=3.0.2 in /Users/carlogress/anaconda3/lib/python3.11/site-packages (from spacy>=3.2.1->Dbias) (3.0.9)\n",
      "Requirement already satisfied: thinc<8.3.0,>=8.1.8 in /Users/carlogress/anaconda3/lib/python3.11/site-packages (from spacy>=3.2.1->Dbias) (8.2.1)\n",
      "Requirement already satisfied: wasabi<1.2.0,>=0.9.1 in /Users/carlogress/anaconda3/lib/python3.11/site-packages (from spacy>=3.2.1->Dbias) (1.1.2)\n",
      "Requirement already satisfied: srsly<3.0.0,>=2.4.3 in /Users/carlogress/anaconda3/lib/python3.11/site-packages (from spacy>=3.2.1->Dbias) (2.4.8)\n",
      "Requirement already satisfied: catalogue<2.1.0,>=2.0.6 in /Users/carlogress/anaconda3/lib/python3.11/site-packages (from spacy>=3.2.1->Dbias) (2.0.10)\n",
      "Requirement already satisfied: weasel<0.4.0,>=0.1.0 in /Users/carlogress/anaconda3/lib/python3.11/site-packages (from spacy>=3.2.1->Dbias) (0.3.4)\n",
      "Requirement already satisfied: typer<0.10.0,>=0.3.0 in /Users/carlogress/anaconda3/lib/python3.11/site-packages (from spacy>=3.2.1->Dbias) (0.9.0)\n",
      "Requirement already satisfied: smart-open<7.0.0,>=5.2.1 in /Users/carlogress/anaconda3/lib/python3.11/site-packages (from spacy>=3.2.1->Dbias) (5.2.1)\n",
      "Requirement already satisfied: tqdm<5.0.0,>=4.38.0 in /Users/carlogress/anaconda3/lib/python3.11/site-packages (from spacy>=3.2.1->Dbias) (4.65.0)\n",
      "Requirement already satisfied: requests<3.0.0,>=2.13.0 in /Users/carlogress/anaconda3/lib/python3.11/site-packages (from spacy>=3.2.1->Dbias) (2.31.0)\n",
      "Requirement already satisfied: pydantic!=1.8,!=1.8.1,<3.0.0,>=1.7.4 in /Users/carlogress/anaconda3/lib/python3.11/site-packages (from spacy>=3.2.1->Dbias) (1.10.8)\n",
      "Requirement already satisfied: jinja2 in /Users/carlogress/anaconda3/lib/python3.11/site-packages (from spacy>=3.2.1->Dbias) (3.1.2)\n",
      "Requirement already satisfied: setuptools in /Users/carlogress/anaconda3/lib/python3.11/site-packages (from spacy>=3.2.1->Dbias) (68.0.0)\n",
      "Requirement already satisfied: packaging>=20.0 in /Users/carlogress/anaconda3/lib/python3.11/site-packages (from spacy>=3.2.1->Dbias) (23.1)\n",
      "Requirement already satisfied: langcodes<4.0.0,>=3.2.0 in /Users/carlogress/anaconda3/lib/python3.11/site-packages (from spacy>=3.2.1->Dbias) (3.3.0)\n",
      "Requirement already satisfied: tensorflow-macos==2.15.0 in /Users/carlogress/anaconda3/lib/python3.11/site-packages (from tensorflow>=2.4.1->Dbias) (2.15.0)\n",
      "Requirement already satisfied: absl-py>=1.0.0 in /Users/carlogress/anaconda3/lib/python3.11/site-packages (from tensorflow-macos==2.15.0->tensorflow>=2.4.1->Dbias) (2.0.0)\n",
      "Requirement already satisfied: astunparse>=1.6.0 in /Users/carlogress/anaconda3/lib/python3.11/site-packages (from tensorflow-macos==2.15.0->tensorflow>=2.4.1->Dbias) (1.6.3)\n",
      "Requirement already satisfied: flatbuffers>=23.5.26 in /Users/carlogress/anaconda3/lib/python3.11/site-packages (from tensorflow-macos==2.15.0->tensorflow>=2.4.1->Dbias) (23.5.26)\n",
      "Requirement already satisfied: gast!=0.5.0,!=0.5.1,!=0.5.2,>=0.2.1 in /Users/carlogress/anaconda3/lib/python3.11/site-packages (from tensorflow-macos==2.15.0->tensorflow>=2.4.1->Dbias) (0.5.4)\n",
      "Requirement already satisfied: google-pasta>=0.1.1 in /Users/carlogress/anaconda3/lib/python3.11/site-packages (from tensorflow-macos==2.15.0->tensorflow>=2.4.1->Dbias) (0.2.0)\n",
      "Requirement already satisfied: h5py>=2.9.0 in /Users/carlogress/anaconda3/lib/python3.11/site-packages (from tensorflow-macos==2.15.0->tensorflow>=2.4.1->Dbias) (3.9.0)\n",
      "Requirement already satisfied: libclang>=13.0.0 in /Users/carlogress/anaconda3/lib/python3.11/site-packages (from tensorflow-macos==2.15.0->tensorflow>=2.4.1->Dbias) (16.0.6)\n",
      "Requirement already satisfied: ml-dtypes~=0.2.0 in /Users/carlogress/anaconda3/lib/python3.11/site-packages (from tensorflow-macos==2.15.0->tensorflow>=2.4.1->Dbias) (0.2.0)\n",
      "Requirement already satisfied: opt-einsum>=2.3.2 in /Users/carlogress/anaconda3/lib/python3.11/site-packages (from tensorflow-macos==2.15.0->tensorflow>=2.4.1->Dbias) (3.3.0)\n",
      "Requirement already satisfied: protobuf!=4.21.0,!=4.21.1,!=4.21.2,!=4.21.3,!=4.21.4,!=4.21.5,<5.0.0dev,>=3.20.3 in /Users/carlogress/anaconda3/lib/python3.11/site-packages (from tensorflow-macos==2.15.0->tensorflow>=2.4.1->Dbias) (4.23.4)\n",
      "Requirement already satisfied: six>=1.12.0 in /Users/carlogress/anaconda3/lib/python3.11/site-packages (from tensorflow-macos==2.15.0->tensorflow>=2.4.1->Dbias) (1.16.0)\n",
      "Requirement already satisfied: termcolor>=1.1.0 in /Users/carlogress/anaconda3/lib/python3.11/site-packages (from tensorflow-macos==2.15.0->tensorflow>=2.4.1->Dbias) (2.4.0)\n",
      "Requirement already satisfied: typing-extensions>=3.6.6 in /Users/carlogress/anaconda3/lib/python3.11/site-packages (from tensorflow-macos==2.15.0->tensorflow>=2.4.1->Dbias) (4.7.1)\n",
      "Requirement already satisfied: wrapt<1.15,>=1.11.0 in /Users/carlogress/anaconda3/lib/python3.11/site-packages (from tensorflow-macos==2.15.0->tensorflow>=2.4.1->Dbias) (1.14.1)\n",
      "Requirement already satisfied: tensorflow-io-gcs-filesystem>=0.23.1 in /Users/carlogress/anaconda3/lib/python3.11/site-packages (from tensorflow-macos==2.15.0->tensorflow>=2.4.1->Dbias) (0.34.0)\n",
      "Requirement already satisfied: grpcio<2.0,>=1.24.3 in /Users/carlogress/anaconda3/lib/python3.11/site-packages (from tensorflow-macos==2.15.0->tensorflow>=2.4.1->Dbias) (1.59.3)\n",
      "Requirement already satisfied: tensorboard<2.16,>=2.15 in /Users/carlogress/anaconda3/lib/python3.11/site-packages (from tensorflow-macos==2.15.0->tensorflow>=2.4.1->Dbias) (2.15.1)\n",
      "Requirement already satisfied: tensorflow-estimator<2.16,>=2.15.0 in /Users/carlogress/anaconda3/lib/python3.11/site-packages (from tensorflow-macos==2.15.0->tensorflow>=2.4.1->Dbias) (2.15.0)\n",
      "Requirement already satisfied: keras<2.16,>=2.15.0 in /Users/carlogress/anaconda3/lib/python3.11/site-packages (from tensorflow-macos==2.15.0->tensorflow>=2.4.1->Dbias) (2.15.0)\n",
      "Requirement already satisfied: filelock in /Users/carlogress/anaconda3/lib/python3.11/site-packages (from transformers>=4.6.1->Dbias) (3.9.0)\n",
      "Requirement already satisfied: huggingface-hub<1.0,>=0.15.1 in /Users/carlogress/anaconda3/lib/python3.11/site-packages (from transformers>=4.6.1->Dbias) (0.15.1)\n",
      "Requirement already satisfied: pyyaml>=5.1 in /Users/carlogress/anaconda3/lib/python3.11/site-packages (from transformers>=4.6.1->Dbias) (6.0)\n",
      "Requirement already satisfied: regex!=2019.12.17 in /Users/carlogress/anaconda3/lib/python3.11/site-packages (from transformers>=4.6.1->Dbias) (2022.7.9)\n",
      "Requirement already satisfied: tokenizers!=0.11.3,<0.14,>=0.11.1 in /Users/carlogress/anaconda3/lib/python3.11/site-packages (from transformers>=4.6.1->Dbias) (0.13.2)\n",
      "Requirement already satisfied: safetensors>=0.3.1 in /Users/carlogress/anaconda3/lib/python3.11/site-packages (from transformers>=4.6.1->Dbias) (0.3.2)\n",
      "Requirement already satisfied: tenacity>=6.2.0 in /Users/carlogress/anaconda3/lib/python3.11/site-packages (from plotly->Dbias) (8.2.2)\n",
      "Requirement already satisfied: fsspec in /Users/carlogress/anaconda3/lib/python3.11/site-packages (from huggingface-hub<1.0,>=0.15.1->transformers>=4.6.1->Dbias) (2023.4.0)\n",
      "Requirement already satisfied: charset-normalizer<4,>=2 in /Users/carlogress/anaconda3/lib/python3.11/site-packages (from requests<3.0.0,>=2.13.0->spacy>=3.2.1->Dbias) (2.0.4)\n",
      "Requirement already satisfied: idna<4,>=2.5 in /Users/carlogress/anaconda3/lib/python3.11/site-packages (from requests<3.0.0,>=2.13.0->spacy>=3.2.1->Dbias) (3.4)\n",
      "Requirement already satisfied: urllib3<3,>=1.21.1 in /Users/carlogress/anaconda3/lib/python3.11/site-packages (from requests<3.0.0,>=2.13.0->spacy>=3.2.1->Dbias) (1.26.16)\n",
      "Requirement already satisfied: certifi>=2017.4.17 in /Users/carlogress/anaconda3/lib/python3.11/site-packages (from requests<3.0.0,>=2.13.0->spacy>=3.2.1->Dbias) (2023.7.22)\n",
      "Requirement already satisfied: blis<0.8.0,>=0.7.8 in /Users/carlogress/anaconda3/lib/python3.11/site-packages (from thinc<8.3.0,>=8.1.8->spacy>=3.2.1->Dbias) (0.7.11)\n",
      "Requirement already satisfied: confection<1.0.0,>=0.0.1 in /Users/carlogress/anaconda3/lib/python3.11/site-packages (from thinc<8.3.0,>=8.1.8->spacy>=3.2.1->Dbias) (0.1.4)\n",
      "Requirement already satisfied: click<9.0.0,>=7.1.1 in /Users/carlogress/anaconda3/lib/python3.11/site-packages (from typer<0.10.0,>=0.3.0->spacy>=3.2.1->Dbias) (8.0.4)\n",
      "Requirement already satisfied: cloudpathlib<0.17.0,>=0.7.0 in /Users/carlogress/anaconda3/lib/python3.11/site-packages (from weasel<0.4.0,>=0.1.0->spacy>=3.2.1->Dbias) (0.16.0)\n",
      "Requirement already satisfied: MarkupSafe>=2.0 in /Users/carlogress/anaconda3/lib/python3.11/site-packages (from jinja2->spacy>=3.2.1->Dbias) (2.1.1)\n",
      "Requirement already satisfied: wheel<1.0,>=0.23.0 in /Users/carlogress/anaconda3/lib/python3.11/site-packages (from astunparse>=1.6.0->tensorflow-macos==2.15.0->tensorflow>=2.4.1->Dbias) (0.38.4)\n",
      "Requirement already satisfied: google-auth<3,>=1.6.3 in /Users/carlogress/anaconda3/lib/python3.11/site-packages (from tensorboard<2.16,>=2.15->tensorflow-macos==2.15.0->tensorflow>=2.4.1->Dbias) (2.24.0)\n",
      "Requirement already satisfied: google-auth-oauthlib<2,>=0.5 in /Users/carlogress/anaconda3/lib/python3.11/site-packages (from tensorboard<2.16,>=2.15->tensorflow-macos==2.15.0->tensorflow>=2.4.1->Dbias) (1.1.0)\n",
      "Requirement already satisfied: markdown>=2.6.8 in /Users/carlogress/anaconda3/lib/python3.11/site-packages (from tensorboard<2.16,>=2.15->tensorflow-macos==2.15.0->tensorflow>=2.4.1->Dbias) (3.4.1)\n",
      "Requirement already satisfied: tensorboard-data-server<0.8.0,>=0.7.0 in /Users/carlogress/anaconda3/lib/python3.11/site-packages (from tensorboard<2.16,>=2.15->tensorflow-macos==2.15.0->tensorflow>=2.4.1->Dbias) (0.7.2)\n",
      "Requirement already satisfied: werkzeug>=1.0.1 in /Users/carlogress/anaconda3/lib/python3.11/site-packages (from tensorboard<2.16,>=2.15->tensorflow-macos==2.15.0->tensorflow>=2.4.1->Dbias) (2.2.3)\n",
      "Requirement already satisfied: cachetools<6.0,>=2.0.0 in /Users/carlogress/anaconda3/lib/python3.11/site-packages (from google-auth<3,>=1.6.3->tensorboard<2.16,>=2.15->tensorflow-macos==2.15.0->tensorflow>=2.4.1->Dbias) (5.3.2)\n",
      "Requirement already satisfied: pyasn1-modules>=0.2.1 in /Users/carlogress/anaconda3/lib/python3.11/site-packages (from google-auth<3,>=1.6.3->tensorboard<2.16,>=2.15->tensorflow-macos==2.15.0->tensorflow>=2.4.1->Dbias) (0.2.8)\n",
      "Requirement already satisfied: rsa<5,>=3.1.4 in /Users/carlogress/anaconda3/lib/python3.11/site-packages (from google-auth<3,>=1.6.3->tensorboard<2.16,>=2.15->tensorflow-macos==2.15.0->tensorflow>=2.4.1->Dbias) (4.9)\n",
      "Requirement already satisfied: requests-oauthlib>=0.7.0 in /Users/carlogress/anaconda3/lib/python3.11/site-packages (from google-auth-oauthlib<2,>=0.5->tensorboard<2.16,>=2.15->tensorflow-macos==2.15.0->tensorflow>=2.4.1->Dbias) (1.3.1)\n",
      "Requirement already satisfied: pyasn1<0.5.0,>=0.4.6 in /Users/carlogress/anaconda3/lib/python3.11/site-packages (from pyasn1-modules>=0.2.1->google-auth<3,>=1.6.3->tensorboard<2.16,>=2.15->tensorflow-macos==2.15.0->tensorflow>=2.4.1->Dbias) (0.4.8)\n",
      "Requirement already satisfied: oauthlib>=3.0.0 in /Users/carlogress/anaconda3/lib/python3.11/site-packages (from requests-oauthlib>=0.7.0->google-auth-oauthlib<2,>=0.5->tensorboard<2.16,>=2.15->tensorflow-macos==2.15.0->tensorflow>=2.4.1->Dbias) (3.2.2)\n"
     ]
    }
   ],
   "source": [
    "!pip install Dbias\n"
   ]
  },
  {
   "cell_type": "code",
   "execution_count": 23,
   "metadata": {},
   "outputs": [
    {
     "ename": "ModuleNotFoundError",
     "evalue": "No module named 'Dbias'",
     "output_type": "error",
     "traceback": [
      "\u001b[0;31m---------------------------------------------------------------------------\u001b[0m",
      "\u001b[0;31mModuleNotFoundError\u001b[0m                       Traceback (most recent call last)",
      "\u001b[1;32m/Users/carlogress/Documents/GitHub/DeepLearning_bias_NLP/Gender_Debias.ipynb Cell 2\u001b[0m line \u001b[0;36m5\n\u001b[1;32m      <a href='vscode-notebook-cell:/Users/carlogress/Documents/GitHub/DeepLearning_bias_NLP/Gender_Debias.ipynb#W2sZmlsZQ%3D%3D?line=1'>2</a>\u001b[0m \u001b[39mimport\u001b[39;00m \u001b[39mnumpy\u001b[39;00m \u001b[39mas\u001b[39;00m \u001b[39mnp\u001b[39;00m\n\u001b[1;32m      <a href='vscode-notebook-cell:/Users/carlogress/Documents/GitHub/DeepLearning_bias_NLP/Gender_Debias.ipynb#W2sZmlsZQ%3D%3D?line=2'>3</a>\u001b[0m \u001b[39mimport\u001b[39;00m \u001b[39mtensorflow\u001b[39;00m \u001b[39mas\u001b[39;00m \u001b[39mtf\u001b[39;00m\n\u001b[0;32m----> <a href='vscode-notebook-cell:/Users/carlogress/Documents/GitHub/DeepLearning_bias_NLP/Gender_Debias.ipynb#W2sZmlsZQ%3D%3D?line=4'>5</a>\u001b[0m \u001b[39mfrom\u001b[39;00m \u001b[39mDbias\u001b[39;00m\u001b[39m.\u001b[39;00m\u001b[39mtext_debiasing\u001b[39;00m \u001b[39mimport\u001b[39;00m \u001b[39m*\u001b[39m;\n\u001b[1;32m      <a href='vscode-notebook-cell:/Users/carlogress/Documents/GitHub/DeepLearning_bias_NLP/Gender_Debias.ipynb#W2sZmlsZQ%3D%3D?line=5'>6</a>\u001b[0m \u001b[39mfrom\u001b[39;00m \u001b[39mDbias\u001b[39;00m\u001b[39m.\u001b[39;00m\u001b[39mbias_classification\u001b[39;00m \u001b[39mimport\u001b[39;00m \u001b[39m*\u001b[39m;\n\u001b[1;32m      <a href='vscode-notebook-cell:/Users/carlogress/Documents/GitHub/DeepLearning_bias_NLP/Gender_Debias.ipynb#W2sZmlsZQ%3D%3D?line=6'>7</a>\u001b[0m \u001b[39mfrom\u001b[39;00m \u001b[39mDbias\u001b[39;00m\u001b[39m.\u001b[39;00m\u001b[39mbias_recognition\u001b[39;00m \u001b[39mimport\u001b[39;00m \u001b[39m*\u001b[39m;\n",
      "\u001b[0;31mModuleNotFoundError\u001b[0m: No module named 'Dbias'"
     ]
    }
   ],
   "source": [
    "import pandas as pd\n",
    "import numpy as np\n",
    "import tensorflow as tf\n",
    "\n",
    "from Dbias.text_debiasing import *;\n",
    "from Dbias.bias_classification import *;\n",
    "from Dbias.bias_recognition import *;\n",
    "from Dbias.bias_masking import *;\n",
    "import os\n",
    "\n",
    "\n",
    "\n",
    "from transformers import AutoTokenizer, TFAutoModelForSequenceClassification\n",
    "from transformers import pipeline\n",
    "tokenizer = AutoTokenizer.from_pretrained(\"d4data/bias-detection-model\")\n",
    "model = TFAutoModelForSequenceClassification.from_pretrained(\"d4data/bias-detection-model\")\n",
    "\n",
    "classifier = pipeline('text-classification', model=model, tokenizer=tokenizer)"
   ]
  },
  {
   "cell_type": "code",
   "execution_count": 11,
   "metadata": {},
   "outputs": [],
   "source": [
    "def custom_classification(x):\n",
    "    classi_out = classify(x)\n",
    "    return classi_out[0]['label'], classi_out[0]['score']\n",
    "\n",
    "def custom_recognizer(x):\n",
    "    biased_words = recognizer(x)\n",
    "    biased_words_list = []\n",
    "    for id in range(0, len(biased_words)):\n",
    "        biased_words_list.append(biased_words[id]['entity'])\n",
    "    return \", \".join(biased_words_list)\n",
    "\n",
    "def custom_debiasing(x):\n",
    "    suggestions = run(x)\n",
    "    if suggestions == None:\n",
    "        return \"\"\n",
    "    else:\n",
    "      all_suggestions = []\n",
    "      for sent in suggestions[0:3]:\n",
    "        all_suggestions.append(sent['Sentence'])\n",
    "      return \"\\n\\n\".join(all_suggestions)"
   ]
  },
  {
   "cell_type": "code",
   "execution_count": 3,
   "metadata": {},
   "outputs": [
    {
     "name": "stdout",
     "output_type": "stream",
     "text": [
      "Index(['headline_no_site'], dtype='object')\n"
     ]
    }
   ],
   "source": [
    "# Load gender bias headlines\n",
    "\n",
    "headlines = pd.read_csv(\"gender_bias_data.csv\")\n",
    "\n",
    "print(headlines.columns)"
   ]
  },
  {
   "cell_type": "code",
   "execution_count": 14,
   "metadata": {},
   "outputs": [
    {
     "name": "stdout",
     "output_type": "stream",
     "text": [
      "                                     headline_no_site       state     score\n",
      "0   Life sentence for Plymouth woman who murdered ...  Non-biased  0.980371\n",
      "1   “I Had Never Even Heard Of Her Before She Cure...  Non-biased  0.681668\n",
      "2   'Honey Boo Boo' Mom Wants Female Pres as Hilla...      Biased  0.892100\n",
      "3   New York Woman Says Rihanna's Lipstick Gave He...      Biased  0.781223\n",
      "4   Teens Notice Pretty Blonde Woman In Car Beside...      Biased  0.992805\n",
      "5   Crime Scene   Mother charged after Pr. William...  Non-biased  0.873353\n",
      "6   She Had The Meanest Mom In The World. Now? She...      Biased  0.990178\n",
      "7   A US woman on why she disagrees with Obama on ...      Biased  0.900038\n",
      "8   EastEnders star Emer Kenny’s sister told she w...      Biased  0.533608\n",
      "9   Army Colonel: Use 'Average Looking Women' to P...      Biased  0.639923\n",
      "10  Size 30 woman ditches cruel husband who called...      Biased  0.969968\n",
      "11  Mom Hopes For A Normal Baby, But When Doctors ...      Biased  0.995048\n",
      "12  Watch this 8 year old girl unwrap and use her ...      Biased  0.886837\n",
      "13                  Female doctors cater for PE women  Non-biased  0.762022\n",
      "14  Woman who drove off with traffic cop on top of...  Non-biased  0.514235\n",
      "15  40 years after death of her son Santos Rodrigu...  Non-biased  0.621132\n",
      "16  Lady Gaga iPad scam puts her little monsters a...  Non-biased  0.513951\n",
      "17                Cook, Thief, His Wife And Her Lover  Non-biased  0.553301\n",
      "18             5 People Every Woman Needs In Her Life      Biased  0.979573\n",
      "19   The slacker is back – and this time she's female      Biased  0.549082\n",
      "20                 Break Her For The Goblet She Holds  Non-biased  0.804913\n",
      "21  Google Offers $25M in Grants to Groups Empower...  Non-biased  0.502476\n",
      "22  Engen celebrates women truck drivers this Wome...      Biased  0.698346\n",
      "23  Women still miss out on management in finance ...      Biased  0.978512\n",
      "24  Woman Arrested While Refusing Smart Meter Inst...  Non-biased  0.575052\n",
      "25   Actress Kate Hudson on launching her own company  Non-biased  0.775411\n",
      "26         Woman jumps to her death from hotel window  Non-biased  0.854902\n",
      "27  Globetrotting: Rochette intends to compete des...  Non-biased  0.726849\n",
      "28  Woman haunted by her likeness to dad Raoul Moa...      Biased  0.815695\n",
      "29  International Women's Day: 7 most influential ...      Biased  0.826438\n",
      "30  A shot of medicine for heroin addiction helps ...      Biased  0.549449\n",
      "31  South African woman with concrete slab told he...  Non-biased  0.689640\n",
      "32                The Fat Lady Is Clearing Her Throat  Non-biased  0.790599\n",
      "33                    Mother dies waiting for her son  Non-biased  0.752119\n",
      "34  Why Black Women Are Often Missing From Convers...      Biased  0.596232\n",
      "35  How her husband’s suicide inspired one woman t...      Biased  0.995178\n",
      "36  Celebrity Mum Claire Sweeney Says Aspirin Stop...      Biased  0.508726\n",
      "37  Lady Gaga dines at award winning San Francisco...  Non-biased  0.623760\n",
      "38  Last of 3 Women to Play Baseball in Negro Leag...      Biased  0.925505\n",
      "39     The Women Who Are Changing the Face of the NFL  Non-biased  0.584605\n",
      "40  Stephen Piscotty's Mother Dies at 55 After Bat...  Non-biased  0.647686\n",
      "41  Barber, Saldana capture U.S. Women's Amateur F...  Non-biased  0.791145\n",
      "42  Here's who bought that run down Painted Lady i...      Biased  0.671662\n",
      "43  Should pregnant Bay Area women get the COVID 1...  Non-biased  0.556761\n",
      "44  Woman Sentenced To 60 Days In Jail In 2016 Veh...  Non-biased  0.707552\n",
      "45  28 Year Old Woman Killed In Crash Off Grizzly ...  Non-biased  0.545002\n",
      "46  Massaging problem feet from clowns to Mother T...      Biased  0.563175\n",
      "47  Cal women look for bounce back weekend against...  Non-biased  0.554421\n",
      "48  First female Boston Marathon runner prepares t...  Non-biased  0.928306\n",
      "49  The 'M' Word: Ronaldo's Sister Reveals Why Tal...      Biased  0.992131\n"
     ]
    },
    {
     "ename": "NameError",
     "evalue": "name 'classify' is not defined",
     "output_type": "error",
     "traceback": [
      "\u001b[0;31m---------------------------------------------------------------------------\u001b[0m",
      "\u001b[0;31mNameError\u001b[0m                                 Traceback (most recent call last)",
      "\u001b[1;32m/Users/carlogress/Documents/GitHub/DeepLearning_bias_NLP/Gender_Debias.ipynb Cell 4\u001b[0m line \u001b[0;36m1\n\u001b[1;32m     <a href='vscode-notebook-cell:/Users/carlogress/Documents/GitHub/DeepLearning_bias_NLP/Gender_Debias.ipynb#W3sZmlsZQ%3D%3D?line=9'>10</a>\u001b[0m \u001b[39m# Print the resulting DataFrame with bias predictions\u001b[39;00m\n\u001b[1;32m     <a href='vscode-notebook-cell:/Users/carlogress/Documents/GitHub/DeepLearning_bias_NLP/Gender_Debias.ipynb#W3sZmlsZQ%3D%3D?line=10'>11</a>\u001b[0m \u001b[39mprint\u001b[39m(headlines[[\u001b[39m'\u001b[39m\u001b[39mheadline_no_site\u001b[39m\u001b[39m'\u001b[39m, \u001b[39m'\u001b[39m\u001b[39mstate\u001b[39m\u001b[39m'\u001b[39m, \u001b[39m'\u001b[39m\u001b[39mscore\u001b[39m\u001b[39m'\u001b[39m]])\n\u001b[0;32m---> <a href='vscode-notebook-cell:/Users/carlogress/Documents/GitHub/DeepLearning_bias_NLP/Gender_Debias.ipynb#W3sZmlsZQ%3D%3D?line=13'>14</a>\u001b[0m headlines[[\u001b[39m'\u001b[39m\u001b[39mstate\u001b[39m\u001b[39m'\u001b[39m, \u001b[39m'\u001b[39m\u001b[39mprobability\u001b[39m\u001b[39m'\u001b[39m]] \u001b[39m=\u001b[39m headlines[\u001b[39m'\u001b[39;49m\u001b[39mheadline_no_site\u001b[39;49m\u001b[39m'\u001b[39;49m]\u001b[39m.\u001b[39;49mapply(\u001b[39mlambda\u001b[39;49;00m x: custom_classification(x))\u001b[39m.\u001b[39mto_list()\n\u001b[1;32m     <a href='vscode-notebook-cell:/Users/carlogress/Documents/GitHub/DeepLearning_bias_NLP/Gender_Debias.ipynb#W3sZmlsZQ%3D%3D?line=14'>15</a>\u001b[0m headlines\n",
      "File \u001b[0;32m/Library/Frameworks/Python.framework/Versions/3.11/lib/python3.11/site-packages/pandas/core/series.py:4760\u001b[0m, in \u001b[0;36mSeries.apply\u001b[0;34m(self, func, convert_dtype, args, by_row, **kwargs)\u001b[0m\n\u001b[1;32m   4625\u001b[0m \u001b[39mdef\u001b[39;00m \u001b[39mapply\u001b[39m(\n\u001b[1;32m   4626\u001b[0m     \u001b[39mself\u001b[39m,\n\u001b[1;32m   4627\u001b[0m     func: AggFuncType,\n\u001b[0;32m   (...)\u001b[0m\n\u001b[1;32m   4632\u001b[0m     \u001b[39m*\u001b[39m\u001b[39m*\u001b[39mkwargs,\n\u001b[1;32m   4633\u001b[0m ) \u001b[39m-\u001b[39m\u001b[39m>\u001b[39m DataFrame \u001b[39m|\u001b[39m Series:\n\u001b[1;32m   4634\u001b[0m \u001b[39m    \u001b[39m\u001b[39m\"\"\"\u001b[39;00m\n\u001b[1;32m   4635\u001b[0m \u001b[39m    Invoke function on values of Series.\u001b[39;00m\n\u001b[1;32m   4636\u001b[0m \n\u001b[0;32m   (...)\u001b[0m\n\u001b[1;32m   4751\u001b[0m \u001b[39m    dtype: float64\u001b[39;00m\n\u001b[1;32m   4752\u001b[0m \u001b[39m    \"\"\"\u001b[39;00m\n\u001b[1;32m   4753\u001b[0m     \u001b[39mreturn\u001b[39;00m SeriesApply(\n\u001b[1;32m   4754\u001b[0m         \u001b[39mself\u001b[39;49m,\n\u001b[1;32m   4755\u001b[0m         func,\n\u001b[1;32m   4756\u001b[0m         convert_dtype\u001b[39m=\u001b[39;49mconvert_dtype,\n\u001b[1;32m   4757\u001b[0m         by_row\u001b[39m=\u001b[39;49mby_row,\n\u001b[1;32m   4758\u001b[0m         args\u001b[39m=\u001b[39;49margs,\n\u001b[1;32m   4759\u001b[0m         kwargs\u001b[39m=\u001b[39;49mkwargs,\n\u001b[0;32m-> 4760\u001b[0m     )\u001b[39m.\u001b[39;49mapply()\n",
      "File \u001b[0;32m/Library/Frameworks/Python.framework/Versions/3.11/lib/python3.11/site-packages/pandas/core/apply.py:1207\u001b[0m, in \u001b[0;36mSeriesApply.apply\u001b[0;34m(self)\u001b[0m\n\u001b[1;32m   1204\u001b[0m     \u001b[39mreturn\u001b[39;00m \u001b[39mself\u001b[39m\u001b[39m.\u001b[39mapply_compat()\n\u001b[1;32m   1206\u001b[0m \u001b[39m# self.func is Callable\u001b[39;00m\n\u001b[0;32m-> 1207\u001b[0m \u001b[39mreturn\u001b[39;00m \u001b[39mself\u001b[39;49m\u001b[39m.\u001b[39;49mapply_standard()\n",
      "File \u001b[0;32m/Library/Frameworks/Python.framework/Versions/3.11/lib/python3.11/site-packages/pandas/core/apply.py:1287\u001b[0m, in \u001b[0;36mSeriesApply.apply_standard\u001b[0;34m(self)\u001b[0m\n\u001b[1;32m   1281\u001b[0m \u001b[39m# row-wise access\u001b[39;00m\n\u001b[1;32m   1282\u001b[0m \u001b[39m# apply doesn't have a `na_action` keyword and for backward compat reasons\u001b[39;00m\n\u001b[1;32m   1283\u001b[0m \u001b[39m# we need to give `na_action=\"ignore\"` for categorical data.\u001b[39;00m\n\u001b[1;32m   1284\u001b[0m \u001b[39m# TODO: remove the `na_action=\"ignore\"` when that default has been changed in\u001b[39;00m\n\u001b[1;32m   1285\u001b[0m \u001b[39m#  Categorical (GH51645).\u001b[39;00m\n\u001b[1;32m   1286\u001b[0m action \u001b[39m=\u001b[39m \u001b[39m\"\u001b[39m\u001b[39mignore\u001b[39m\u001b[39m\"\u001b[39m \u001b[39mif\u001b[39;00m \u001b[39misinstance\u001b[39m(obj\u001b[39m.\u001b[39mdtype, CategoricalDtype) \u001b[39melse\u001b[39;00m \u001b[39mNone\u001b[39;00m\n\u001b[0;32m-> 1287\u001b[0m mapped \u001b[39m=\u001b[39m obj\u001b[39m.\u001b[39;49m_map_values(\n\u001b[1;32m   1288\u001b[0m     mapper\u001b[39m=\u001b[39;49mcurried, na_action\u001b[39m=\u001b[39;49maction, convert\u001b[39m=\u001b[39;49m\u001b[39mself\u001b[39;49m\u001b[39m.\u001b[39;49mconvert_dtype\n\u001b[1;32m   1289\u001b[0m )\n\u001b[1;32m   1291\u001b[0m \u001b[39mif\u001b[39;00m \u001b[39mlen\u001b[39m(mapped) \u001b[39mand\u001b[39;00m \u001b[39misinstance\u001b[39m(mapped[\u001b[39m0\u001b[39m], ABCSeries):\n\u001b[1;32m   1292\u001b[0m     \u001b[39m# GH#43986 Need to do list(mapped) in order to get treated as nested\u001b[39;00m\n\u001b[1;32m   1293\u001b[0m     \u001b[39m#  See also GH#25959 regarding EA support\u001b[39;00m\n\u001b[1;32m   1294\u001b[0m     \u001b[39mreturn\u001b[39;00m obj\u001b[39m.\u001b[39m_constructor_expanddim(\u001b[39mlist\u001b[39m(mapped), index\u001b[39m=\u001b[39mobj\u001b[39m.\u001b[39mindex)\n",
      "File \u001b[0;32m/Library/Frameworks/Python.framework/Versions/3.11/lib/python3.11/site-packages/pandas/core/base.py:921\u001b[0m, in \u001b[0;36mIndexOpsMixin._map_values\u001b[0;34m(self, mapper, na_action, convert)\u001b[0m\n\u001b[1;32m    918\u001b[0m \u001b[39mif\u001b[39;00m \u001b[39misinstance\u001b[39m(arr, ExtensionArray):\n\u001b[1;32m    919\u001b[0m     \u001b[39mreturn\u001b[39;00m arr\u001b[39m.\u001b[39mmap(mapper, na_action\u001b[39m=\u001b[39mna_action)\n\u001b[0;32m--> 921\u001b[0m \u001b[39mreturn\u001b[39;00m algorithms\u001b[39m.\u001b[39;49mmap_array(arr, mapper, na_action\u001b[39m=\u001b[39;49mna_action, convert\u001b[39m=\u001b[39;49mconvert)\n",
      "File \u001b[0;32m/Library/Frameworks/Python.framework/Versions/3.11/lib/python3.11/site-packages/pandas/core/algorithms.py:1814\u001b[0m, in \u001b[0;36mmap_array\u001b[0;34m(arr, mapper, na_action, convert)\u001b[0m\n\u001b[1;32m   1812\u001b[0m values \u001b[39m=\u001b[39m arr\u001b[39m.\u001b[39mastype(\u001b[39mobject\u001b[39m, copy\u001b[39m=\u001b[39m\u001b[39mFalse\u001b[39;00m)\n\u001b[1;32m   1813\u001b[0m \u001b[39mif\u001b[39;00m na_action \u001b[39mis\u001b[39;00m \u001b[39mNone\u001b[39;00m:\n\u001b[0;32m-> 1814\u001b[0m     \u001b[39mreturn\u001b[39;00m lib\u001b[39m.\u001b[39;49mmap_infer(values, mapper, convert\u001b[39m=\u001b[39;49mconvert)\n\u001b[1;32m   1815\u001b[0m \u001b[39melse\u001b[39;00m:\n\u001b[1;32m   1816\u001b[0m     \u001b[39mreturn\u001b[39;00m lib\u001b[39m.\u001b[39mmap_infer_mask(\n\u001b[1;32m   1817\u001b[0m         values, mapper, mask\u001b[39m=\u001b[39misna(values)\u001b[39m.\u001b[39mview(np\u001b[39m.\u001b[39muint8), convert\u001b[39m=\u001b[39mconvert\n\u001b[1;32m   1818\u001b[0m     )\n",
      "File \u001b[0;32mlib.pyx:2917\u001b[0m, in \u001b[0;36mpandas._libs.lib.map_infer\u001b[0;34m()\u001b[0m\n",
      "\u001b[1;32m/Users/carlogress/Documents/GitHub/DeepLearning_bias_NLP/Gender_Debias.ipynb Cell 4\u001b[0m line \u001b[0;36m1\n\u001b[1;32m     <a href='vscode-notebook-cell:/Users/carlogress/Documents/GitHub/DeepLearning_bias_NLP/Gender_Debias.ipynb#W3sZmlsZQ%3D%3D?line=9'>10</a>\u001b[0m \u001b[39m# Print the resulting DataFrame with bias predictions\u001b[39;00m\n\u001b[1;32m     <a href='vscode-notebook-cell:/Users/carlogress/Documents/GitHub/DeepLearning_bias_NLP/Gender_Debias.ipynb#W3sZmlsZQ%3D%3D?line=10'>11</a>\u001b[0m \u001b[39mprint\u001b[39m(headlines[[\u001b[39m'\u001b[39m\u001b[39mheadline_no_site\u001b[39m\u001b[39m'\u001b[39m, \u001b[39m'\u001b[39m\u001b[39mstate\u001b[39m\u001b[39m'\u001b[39m, \u001b[39m'\u001b[39m\u001b[39mscore\u001b[39m\u001b[39m'\u001b[39m]])\n\u001b[0;32m---> <a href='vscode-notebook-cell:/Users/carlogress/Documents/GitHub/DeepLearning_bias_NLP/Gender_Debias.ipynb#W3sZmlsZQ%3D%3D?line=13'>14</a>\u001b[0m headlines[[\u001b[39m'\u001b[39m\u001b[39mstate\u001b[39m\u001b[39m'\u001b[39m, \u001b[39m'\u001b[39m\u001b[39mprobability\u001b[39m\u001b[39m'\u001b[39m]] \u001b[39m=\u001b[39m headlines[\u001b[39m'\u001b[39m\u001b[39mheadline_no_site\u001b[39m\u001b[39m'\u001b[39m]\u001b[39m.\u001b[39mapply(\u001b[39mlambda\u001b[39;00m x: custom_classification(x))\u001b[39m.\u001b[39mto_list()\n\u001b[1;32m     <a href='vscode-notebook-cell:/Users/carlogress/Documents/GitHub/DeepLearning_bias_NLP/Gender_Debias.ipynb#W3sZmlsZQ%3D%3D?line=14'>15</a>\u001b[0m headlines\n",
      "\u001b[1;32m/Users/carlogress/Documents/GitHub/DeepLearning_bias_NLP/Gender_Debias.ipynb Cell 4\u001b[0m line \u001b[0;36m2\n\u001b[1;32m      <a href='vscode-notebook-cell:/Users/carlogress/Documents/GitHub/DeepLearning_bias_NLP/Gender_Debias.ipynb#W3sZmlsZQ%3D%3D?line=0'>1</a>\u001b[0m \u001b[39mdef\u001b[39;00m \u001b[39mcustom_classification\u001b[39m(x):\n\u001b[0;32m----> <a href='vscode-notebook-cell:/Users/carlogress/Documents/GitHub/DeepLearning_bias_NLP/Gender_Debias.ipynb#W3sZmlsZQ%3D%3D?line=1'>2</a>\u001b[0m     classi_out \u001b[39m=\u001b[39m classify(x)\n\u001b[1;32m      <a href='vscode-notebook-cell:/Users/carlogress/Documents/GitHub/DeepLearning_bias_NLP/Gender_Debias.ipynb#W3sZmlsZQ%3D%3D?line=2'>3</a>\u001b[0m     \u001b[39mreturn\u001b[39;00m classi_out[\u001b[39m0\u001b[39m][\u001b[39m'\u001b[39m\u001b[39mlabel\u001b[39m\u001b[39m'\u001b[39m], classi_out[\u001b[39m0\u001b[39m][\u001b[39m'\u001b[39m\u001b[39mscore\u001b[39m\u001b[39m'\u001b[39m]\n",
      "\u001b[0;31mNameError\u001b[0m: name 'classify' is not defined"
     ]
    }
   ],
   "source": [
    "headlines['prediction'] = headlines['headline_no_site'].apply(classifier)\n",
    "\n",
    "# Extract the label and score from the prediction\n",
    "headlines['state'] = headlines['prediction'].apply(lambda x: x[0]['label'])\n",
    "headlines['score'] = headlines['prediction'].apply(lambda x: x[0]['score'])\n",
    "\n",
    "# Drop the 'prediction' column if you don't need it anymore\n",
    "headlines = headlines.drop(columns=['prediction'])\n",
    "\n",
    "# Print the resulting DataFrame with bias predictions\n",
    "print(headlines[['headline_no_site', 'state', 'score']])\n",
    "\n",
    "\n",
    "headlines[['state', 'probability']] = headlines['headline_no_site'].apply(lambda x: custom_classification(x)).to_list()\n",
    "headlines"
   ]
  },
  {
   "cell_type": "code",
   "execution_count": 10,
   "metadata": {},
   "outputs": [
    {
     "data": {
      "text/plain": [
       "[{'label': 'Biased', 'score': 0.9938021898269653}]"
      ]
     },
     "execution_count": 10,
     "metadata": {},
     "output_type": "execute_result"
    }
   ],
   "source": [
    "classifier(\"Nevertheless, Trump and other Republicans have tarred the protests as havens for terrorists intent on destroying property.\")"
   ]
  }
 ],
 "metadata": {
  "kernelspec": {
   "display_name": "Python 3",
   "language": "python",
   "name": "python3"
  },
  "language_info": {
   "codemirror_mode": {
    "name": "ipython",
    "version": 3
   },
   "file_extension": ".py",
   "mimetype": "text/x-python",
   "name": "python",
   "nbconvert_exporter": "python",
   "pygments_lexer": "ipython3",
   "version": "3.11.5"
  },
  "orig_nbformat": 4
 },
 "nbformat": 4,
 "nbformat_minor": 2
}
