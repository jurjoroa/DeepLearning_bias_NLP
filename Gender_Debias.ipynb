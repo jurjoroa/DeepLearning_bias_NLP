{
 "cells": [
  {
   "cell_type": "code",
   "execution_count": 2,
   "metadata": {},
   "outputs": [
    {
     "name": "stderr",
     "output_type": "stream",
     "text": [
      "/Library/Frameworks/Python.framework/Versions/3.11/lib/python3.11/site-packages/tqdm/auto.py:21: TqdmWarning: IProgress not found. Please update jupyter and ipywidgets. See https://ipywidgets.readthedocs.io/en/stable/user_install.html\n",
      "  from .autonotebook import tqdm as notebook_tqdm\n",
      "All model checkpoint layers were used when initializing TFDistilBertForSequenceClassification.\n",
      "\n",
      "All the layers of TFDistilBertForSequenceClassification were initialized from the model checkpoint at d4data/bias-detection-model.\n",
      "If your task is similar to the task the model of the checkpoint was trained on, you can already use TFDistilBertForSequenceClassification for predictions without further training.\n"
     ]
    }
   ],
   "source": [
    "import pandas as pd\n",
    "import numpy as np\n",
    "import tensorflow as tf\n",
    "\n",
    "from transformers import AutoTokenizer, TFAutoModelForSequenceClassification\n",
    "from transformers import pipeline\n",
    "tokenizer = AutoTokenizer.from_pretrained(\"d4data/bias-detection-model\")\n",
    "model = TFAutoModelForSequenceClassification.from_pretrained(\"d4data/bias-detection-model\")\n",
    "\n",
    "classifier = pipeline('text-classification', model=model, tokenizer=tokenizer)"
   ]
  },
  {
   "cell_type": "code",
   "execution_count": 3,
   "metadata": {},
   "outputs": [],
   "source": [
    "def custom_classification(x):\n",
    "    classi_out = classify(x)\n",
    "    return classi_out[0]['label'], classi_out[0]['score']\n",
    "\n",
    "def custom_recognizer(x):\n",
    "    biased_words = recognizer(x)\n",
    "    biased_words_list = []\n",
    "    for id in range(0, len(biased_words)):\n",
    "        biased_words_list.append(biased_words[id]['entity'])\n",
    "    return \", \".join(biased_words_list)\n",
    "\n",
    "def custom_debiasing(x):\n",
    "    suggestions = run(x)\n",
    "    if suggestions == None:\n",
    "        return \"\"\n",
    "    else:\n",
    "      all_suggestions = []\n",
    "      for sent in suggestions[0:3]:\n",
    "        all_suggestions.append(sent['Sentence'])\n",
    "      return \"\\n\\n\".join(all_suggestions)"
   ]
  },
  {
   "cell_type": "code",
   "execution_count": 5,
   "metadata": {},
   "outputs": [
    {
     "name": "stdout",
     "output_type": "stream",
     "text": [
      "Index(['headline_no_site'], dtype='object')\n"
     ]
    }
   ],
   "source": [
    "# Load gender bias headlines\n",
    "\n",
    "headlines = pd.read_csv(\"gender_bias_data.csv\")\n",
    "\n",
    "print(headlines.columns)"
   ]
  },
  {
   "cell_type": "code",
   "execution_count": 7,
   "metadata": {},
   "outputs": [
    {
     "name": "stdout",
     "output_type": "stream",
     "text": [
      "                                     headline_no_site       state     score\n",
      "0   Life sentence for Plymouth woman who murdered ...  Non-biased  0.980371\n",
      "1   “I Had Never Even Heard Of Her Before She Cure...  Non-biased  0.681668\n",
      "2   'Honey Boo Boo' Mom Wants Female Pres as Hilla...      Biased  0.892100\n",
      "3   New York Woman Says Rihanna's Lipstick Gave He...      Biased  0.781223\n",
      "4   Teens Notice Pretty Blonde Woman In Car Beside...      Biased  0.992805\n",
      "5   Crime Scene   Mother charged after Pr. William...  Non-biased  0.873353\n",
      "6   She Had The Meanest Mom In The World. Now? She...      Biased  0.990178\n",
      "7   A US woman on why she disagrees with Obama on ...      Biased  0.900038\n",
      "8   EastEnders star Emer Kenny’s sister told she w...      Biased  0.533608\n",
      "9   Army Colonel: Use 'Average Looking Women' to P...      Biased  0.639923\n",
      "10  Size 30 woman ditches cruel husband who called...      Biased  0.969968\n",
      "11  Mom Hopes For A Normal Baby, But When Doctors ...      Biased  0.995048\n",
      "12  Watch this 8 year old girl unwrap and use her ...      Biased  0.886837\n",
      "13                  Female doctors cater for PE women  Non-biased  0.762022\n",
      "14  Woman who drove off with traffic cop on top of...  Non-biased  0.514235\n",
      "15  40 years after death of her son Santos Rodrigu...  Non-biased  0.621132\n",
      "16  Lady Gaga iPad scam puts her little monsters a...  Non-biased  0.513951\n",
      "17                Cook, Thief, His Wife And Her Lover  Non-biased  0.553301\n",
      "18             5 People Every Woman Needs In Her Life      Biased  0.979573\n",
      "19   The slacker is back – and this time she's female      Biased  0.549082\n",
      "20                 Break Her For The Goblet She Holds  Non-biased  0.804913\n",
      "21  Google Offers $25M in Grants to Groups Empower...  Non-biased  0.502476\n",
      "22  Engen celebrates women truck drivers this Wome...      Biased  0.698346\n",
      "23  Women still miss out on management in finance ...      Biased  0.978512\n",
      "24  Woman Arrested While Refusing Smart Meter Inst...  Non-biased  0.575052\n",
      "25   Actress Kate Hudson on launching her own company  Non-biased  0.775411\n",
      "26         Woman jumps to her death from hotel window  Non-biased  0.854902\n",
      "27  Globetrotting: Rochette intends to compete des...  Non-biased  0.726849\n",
      "28  Woman haunted by her likeness to dad Raoul Moa...      Biased  0.815695\n",
      "29  International Women's Day: 7 most influential ...      Biased  0.826438\n",
      "30  A shot of medicine for heroin addiction helps ...      Biased  0.549449\n",
      "31  South African woman with concrete slab told he...  Non-biased  0.689640\n",
      "32                The Fat Lady Is Clearing Her Throat  Non-biased  0.790599\n",
      "33                    Mother dies waiting for her son  Non-biased  0.752119\n",
      "34  Why Black Women Are Often Missing From Convers...      Biased  0.596232\n",
      "35  How her husband’s suicide inspired one woman t...      Biased  0.995178\n",
      "36  Celebrity Mum Claire Sweeney Says Aspirin Stop...      Biased  0.508726\n",
      "37  Lady Gaga dines at award winning San Francisco...  Non-biased  0.623760\n",
      "38  Last of 3 Women to Play Baseball in Negro Leag...      Biased  0.925505\n",
      "39     The Women Who Are Changing the Face of the NFL  Non-biased  0.584605\n",
      "40  Stephen Piscotty's Mother Dies at 55 After Bat...  Non-biased  0.647686\n",
      "41  Barber, Saldana capture U.S. Women's Amateur F...  Non-biased  0.791145\n",
      "42  Here's who bought that run down Painted Lady i...      Biased  0.671662\n",
      "43  Should pregnant Bay Area women get the COVID 1...  Non-biased  0.556761\n",
      "44  Woman Sentenced To 60 Days In Jail In 2016 Veh...  Non-biased  0.707552\n",
      "45  28 Year Old Woman Killed In Crash Off Grizzly ...  Non-biased  0.545002\n",
      "46  Massaging problem feet from clowns to Mother T...      Biased  0.563175\n",
      "47  Cal women look for bounce back weekend against...  Non-biased  0.554421\n",
      "48  First female Boston Marathon runner prepares t...  Non-biased  0.928306\n",
      "49  The 'M' Word: Ronaldo's Sister Reveals Why Tal...      Biased  0.992131\n"
     ]
    }
   ],
   "source": [
    "headlines['prediction'] = headlines['headline_no_site'].apply(classifier)\n",
    "\n",
    "# Extract the label and score from the prediction\n",
    "headlines['state'] = headlines['prediction'].apply(lambda x: x[0]['label'])\n",
    "headlines['score'] = headlines['prediction'].apply(lambda x: x[0]['score'])\n",
    "\n",
    "# Drop the 'prediction' column if you don't need it anymore\n",
    "headlines = headlines.drop(columns=['prediction'])\n",
    "\n",
    "# Print the resulting DataFrame with bias predictions\n",
    "print(headlines[['headline_no_site', 'state', 'score']])\n",
    "\n"
   ]
  },
  {
   "cell_type": "code",
   "execution_count": 8,
   "metadata": {},
   "outputs": [],
   "source": [
    "headlines.to_csv('headlines_predictions.csv', index=False)"
   ]
  }
 ],
 "metadata": {
  "kernelspec": {
   "display_name": "Python 3",
   "language": "python",
   "name": "python3"
  },
  "language_info": {
   "codemirror_mode": {
    "name": "ipython",
    "version": 3
   },
   "file_extension": ".py",
   "mimetype": "text/x-python",
   "name": "python",
   "nbconvert_exporter": "python",
   "pygments_lexer": "ipython3",
   "version": "3.11.5"
  },
  "orig_nbformat": 4
 },
 "nbformat": 4,
 "nbformat_minor": 2
}
