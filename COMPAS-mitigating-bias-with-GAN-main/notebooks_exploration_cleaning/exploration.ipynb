{
 "cells": [
  {
   "cell_type": "markdown",
   "metadata": {
    "id": "chytavbBXSS6"
   },
   "source": []
  },
  {
   "cell_type": "code",
   "execution_count": 1,
   "metadata": {
    "id": "0HkwHquIaeyk"
   },
   "outputs": [],
   "source": [
    "# The following versions avoid warnings of the following code \n",
    "\n",
    "# tensorflow==1.4.0\n",
    "# scikit-learn==0.19.1\n",
    "# keras==2.1.5\n",
    "# pandas==0.22.0\n",
    "# matplotlib==3.0.2"
   ]
  },
  {
   "cell_type": "markdown",
   "metadata": {},
   "source": [
    "# Import pip and data"
   ]
  },
  {
   "cell_type": "code",
   "execution_count": 2,
   "metadata": {
    "id": "pf5UIBsPG834"
   },
   "outputs": [],
   "source": [
    "import numpy as np\n",
    "np.random.seed(7)"
   ]
  },
  {
   "cell_type": "code",
   "execution_count": 3,
   "metadata": {
    "id": "GWJpIKmrKZO-"
   },
   "outputs": [],
   "source": [
    "import pandas as pd\n",
    "import matplotlib.pyplot as plt\n",
    "import seaborn as sns\n",
    "sns.set(style=\"white\", palette=\"muted\", color_codes=True, context=\"talk\")\n",
    "from IPython import display\n",
    "%matplotlib inline\n",
    "import matplotlib\n",
    "import wheel\n",
    "import sklearn as sk\n",
    "from sklearn.model_selection import train_test_split\n",
    "from sklearn.preprocessing import StandardScaler\n",
    "from sklearn.metrics import accuracy_score, roc_auc_score\n",
    "from sklearn.utils.class_weight import compute_class_weight"
   ]
  },
  {
   "cell_type": "code",
   "execution_count": 15,
   "metadata": {
    "id": "pV8SHCzskMvp"
   },
   "outputs": [
    {
     "data": {
      "text/html": [
       "<div>\n",
       "<style scoped>\n",
       "    .dataframe tbody tr th:only-of-type {\n",
       "        vertical-align: middle;\n",
       "    }\n",
       "\n",
       "    .dataframe tbody tr th {\n",
       "        vertical-align: top;\n",
       "    }\n",
       "\n",
       "    .dataframe thead th {\n",
       "        text-align: right;\n",
       "    }\n",
       "</style>\n",
       "<table border=\"1\" class=\"dataframe\">\n",
       "  <thead>\n",
       "    <tr style=\"text-align: right;\">\n",
       "      <th></th>\n",
       "      <th>sex</th>\n",
       "      <th>age</th>\n",
       "      <th>race</th>\n",
       "      <th>juv_fel_count</th>\n",
       "      <th>juv_misd_count</th>\n",
       "      <th>juv_other_count</th>\n",
       "      <th>priors_count</th>\n",
       "      <th>charge_degree</th>\n",
       "      <th>target</th>\n",
       "      <th>two_year_recid</th>\n",
       "    </tr>\n",
       "  </thead>\n",
       "  <tbody>\n",
       "    <tr>\n",
       "      <th>0</th>\n",
       "      <td>1</td>\n",
       "      <td>34</td>\n",
       "      <td>0</td>\n",
       "      <td>0</td>\n",
       "      <td>0</td>\n",
       "      <td>0</td>\n",
       "      <td>0</td>\n",
       "      <td>1</td>\n",
       "      <td>0</td>\n",
       "      <td>1</td>\n",
       "    </tr>\n",
       "    <tr>\n",
       "      <th>1</th>\n",
       "      <td>1</td>\n",
       "      <td>24</td>\n",
       "      <td>0</td>\n",
       "      <td>0</td>\n",
       "      <td>0</td>\n",
       "      <td>1</td>\n",
       "      <td>4</td>\n",
       "      <td>1</td>\n",
       "      <td>0</td>\n",
       "      <td>1</td>\n",
       "    </tr>\n",
       "    <tr>\n",
       "      <th>2</th>\n",
       "      <td>1</td>\n",
       "      <td>23</td>\n",
       "      <td>0</td>\n",
       "      <td>0</td>\n",
       "      <td>1</td>\n",
       "      <td>0</td>\n",
       "      <td>1</td>\n",
       "      <td>1</td>\n",
       "      <td>1</td>\n",
       "      <td>0</td>\n",
       "    </tr>\n",
       "    <tr>\n",
       "      <th>3</th>\n",
       "      <td>1</td>\n",
       "      <td>41</td>\n",
       "      <td>1</td>\n",
       "      <td>0</td>\n",
       "      <td>0</td>\n",
       "      <td>0</td>\n",
       "      <td>14</td>\n",
       "      <td>1</td>\n",
       "      <td>1</td>\n",
       "      <td>1</td>\n",
       "    </tr>\n",
       "    <tr>\n",
       "      <th>4</th>\n",
       "      <td>0</td>\n",
       "      <td>39</td>\n",
       "      <td>1</td>\n",
       "      <td>0</td>\n",
       "      <td>0</td>\n",
       "      <td>0</td>\n",
       "      <td>0</td>\n",
       "      <td>0</td>\n",
       "      <td>0</td>\n",
       "      <td>0</td>\n",
       "    </tr>\n",
       "  </tbody>\n",
       "</table>\n",
       "</div>"
      ],
      "text/plain": [
       "   sex  age  race  juv_fel_count  juv_misd_count  juv_other_count  \\\n",
       "0    1   34     0              0               0                0   \n",
       "1    1   24     0              0               0                1   \n",
       "2    1   23     0              0               1                0   \n",
       "3    1   41     1              0               0                0   \n",
       "4    0   39     1              0               0                0   \n",
       "\n",
       "   priors_count  charge_degree  target  two_year_recid  \n",
       "0             0              1       0               1  \n",
       "1             4              1       0               1  \n",
       "2             1              1       1               0  \n",
       "3            14              1       1               1  \n",
       "4             0              0       0               0  "
      ]
     },
     "execution_count": 15,
     "metadata": {},
     "output_type": "execute_result"
    }
   ],
   "source": [
    "import pandas as pd \n",
    "df = pd.read_csv('data_set.csv')\n",
    "df.head()"
   ]
  },
  {
   "cell_type": "markdown",
   "metadata": {},
   "source": [
    "# Minor data cleaning and set definition"
   ]
  },
  {
   "cell_type": "code",
   "execution_count": 16,
   "metadata": {
    "id": "wUziX6QK2T19"
   },
   "outputs": [
    {
     "data": {
      "text/html": [
       "<div>\n",
       "<style scoped>\n",
       "    .dataframe tbody tr th:only-of-type {\n",
       "        vertical-align: middle;\n",
       "    }\n",
       "\n",
       "    .dataframe tbody tr th {\n",
       "        vertical-align: top;\n",
       "    }\n",
       "\n",
       "    .dataframe thead th {\n",
       "        text-align: right;\n",
       "    }\n",
       "</style>\n",
       "<table border=\"1\" class=\"dataframe\">\n",
       "  <thead>\n",
       "    <tr style=\"text-align: right;\">\n",
       "      <th></th>\n",
       "      <th>sex</th>\n",
       "      <th>age</th>\n",
       "      <th>race</th>\n",
       "      <th>juv_fel_count</th>\n",
       "      <th>juv_misd_count</th>\n",
       "      <th>juv_other_count</th>\n",
       "      <th>priors_count</th>\n",
       "      <th>target</th>\n",
       "      <th>two_year_recid</th>\n",
       "      <th>charge_degree_0</th>\n",
       "      <th>charge_degree_1</th>\n",
       "    </tr>\n",
       "  </thead>\n",
       "  <tbody>\n",
       "    <tr>\n",
       "      <th>0</th>\n",
       "      <td>1</td>\n",
       "      <td>34</td>\n",
       "      <td>0</td>\n",
       "      <td>0</td>\n",
       "      <td>0</td>\n",
       "      <td>0</td>\n",
       "      <td>0</td>\n",
       "      <td>0</td>\n",
       "      <td>1</td>\n",
       "      <td>0</td>\n",
       "      <td>1</td>\n",
       "    </tr>\n",
       "    <tr>\n",
       "      <th>1</th>\n",
       "      <td>1</td>\n",
       "      <td>24</td>\n",
       "      <td>0</td>\n",
       "      <td>0</td>\n",
       "      <td>0</td>\n",
       "      <td>1</td>\n",
       "      <td>4</td>\n",
       "      <td>0</td>\n",
       "      <td>1</td>\n",
       "      <td>0</td>\n",
       "      <td>1</td>\n",
       "    </tr>\n",
       "    <tr>\n",
       "      <th>2</th>\n",
       "      <td>1</td>\n",
       "      <td>23</td>\n",
       "      <td>0</td>\n",
       "      <td>0</td>\n",
       "      <td>1</td>\n",
       "      <td>0</td>\n",
       "      <td>1</td>\n",
       "      <td>1</td>\n",
       "      <td>0</td>\n",
       "      <td>0</td>\n",
       "      <td>1</td>\n",
       "    </tr>\n",
       "    <tr>\n",
       "      <th>3</th>\n",
       "      <td>1</td>\n",
       "      <td>41</td>\n",
       "      <td>1</td>\n",
       "      <td>0</td>\n",
       "      <td>0</td>\n",
       "      <td>0</td>\n",
       "      <td>14</td>\n",
       "      <td>1</td>\n",
       "      <td>1</td>\n",
       "      <td>0</td>\n",
       "      <td>1</td>\n",
       "    </tr>\n",
       "    <tr>\n",
       "      <th>4</th>\n",
       "      <td>0</td>\n",
       "      <td>39</td>\n",
       "      <td>1</td>\n",
       "      <td>0</td>\n",
       "      <td>0</td>\n",
       "      <td>0</td>\n",
       "      <td>0</td>\n",
       "      <td>0</td>\n",
       "      <td>0</td>\n",
       "      <td>1</td>\n",
       "      <td>0</td>\n",
       "    </tr>\n",
       "  </tbody>\n",
       "</table>\n",
       "</div>"
      ],
      "text/plain": [
       "   sex  age  race  juv_fel_count  juv_misd_count  juv_other_count  \\\n",
       "0    1   34     0              0               0                0   \n",
       "1    1   24     0              0               0                1   \n",
       "2    1   23     0              0               1                0   \n",
       "3    1   41     1              0               0                0   \n",
       "4    0   39     1              0               0                0   \n",
       "\n",
       "   priors_count  target  two_year_recid  charge_degree_0  charge_degree_1  \n",
       "0             0       0               1                0                1  \n",
       "1             4       0               1                0                1  \n",
       "2             1       1               0                0                1  \n",
       "3            14       1               1                0                1  \n",
       "4             0       0               0                1                0  "
      ]
     },
     "execution_count": 16,
     "metadata": {},
     "output_type": "execute_result"
    }
   ],
   "source": [
    "# One Hot encoding for categorical variable\n",
    "charge_degree = pd.get_dummies(df['charge_degree']) # 0 = Misdemeanour, 1 = Felony\n",
    "charge_degree.columns = ['charge_degree_' + str(x) for x in charge_degree.columns]\n",
    "df = pd.concat([df, charge_degree], axis=1)\n",
    "# drop old label\n",
    "df.drop(['charge_degree'], axis=1, inplace=True)\n",
    "df.head()"
   ]
  },
  {
   "cell_type": "code",
   "execution_count": 17,
   "metadata": {
    "id": "V0qQsn5Z2T1_"
   },
   "outputs": [],
   "source": [
    "# Inputs needed for training: \n",
    "# PREDICTORS \n",
    "X = df.copy() # start from all variables and drop what is not needed during training\n",
    "\n",
    "# Sensible attributes (we want to exclude them from training to avoid \"intentional\" bias)\n",
    "Z_race = X.pop('race') # race not considered in training\n",
    "Z_sex = X.pop('sex') # sex not considered in training\n",
    "Z_data = {'race': Z_race, 'sex': Z_sex}\n",
    "Z = pd.concat(Z_data, axis = 1)\n",
    "\n",
    "# Target: COMPAS risk prediction, 1 = At risk of recidivism, 0 = No risk \n",
    "y = X.pop('target')\n",
    "\n",
    "# Actual observed criminal activity reported within 2 years from compas score,\n",
    "# 1 = the person committed a crime (he/she's a recidivist)\n",
    "# 0 = he/she is not a recidivist\n",
    "y_factual = X.pop('two_year_recid')"
   ]
  },
  {
   "cell_type": "code",
   "execution_count": 18,
   "metadata": {
    "id": "tYKggT8m2T2L"
   },
   "outputs": [
    {
     "data": {
      "text/html": [
       "<div>\n",
       "<style scoped>\n",
       "    .dataframe tbody tr th:only-of-type {\n",
       "        vertical-align: middle;\n",
       "    }\n",
       "\n",
       "    .dataframe tbody tr th {\n",
       "        vertical-align: top;\n",
       "    }\n",
       "\n",
       "    .dataframe thead th {\n",
       "        text-align: right;\n",
       "    }\n",
       "</style>\n",
       "<table border=\"1\" class=\"dataframe\">\n",
       "  <thead>\n",
       "    <tr style=\"text-align: right;\">\n",
       "      <th></th>\n",
       "      <th>age</th>\n",
       "      <th>juv_fel_count</th>\n",
       "      <th>juv_misd_count</th>\n",
       "      <th>juv_other_count</th>\n",
       "      <th>priors_count</th>\n",
       "      <th>charge_degree_0</th>\n",
       "      <th>charge_degree_1</th>\n",
       "    </tr>\n",
       "  </thead>\n",
       "  <tbody>\n",
       "    <tr>\n",
       "      <th>0</th>\n",
       "      <td>34</td>\n",
       "      <td>0</td>\n",
       "      <td>0</td>\n",
       "      <td>0</td>\n",
       "      <td>0</td>\n",
       "      <td>0</td>\n",
       "      <td>1</td>\n",
       "    </tr>\n",
       "    <tr>\n",
       "      <th>1</th>\n",
       "      <td>24</td>\n",
       "      <td>0</td>\n",
       "      <td>0</td>\n",
       "      <td>1</td>\n",
       "      <td>4</td>\n",
       "      <td>0</td>\n",
       "      <td>1</td>\n",
       "    </tr>\n",
       "    <tr>\n",
       "      <th>2</th>\n",
       "      <td>23</td>\n",
       "      <td>0</td>\n",
       "      <td>1</td>\n",
       "      <td>0</td>\n",
       "      <td>1</td>\n",
       "      <td>0</td>\n",
       "      <td>1</td>\n",
       "    </tr>\n",
       "    <tr>\n",
       "      <th>3</th>\n",
       "      <td>41</td>\n",
       "      <td>0</td>\n",
       "      <td>0</td>\n",
       "      <td>0</td>\n",
       "      <td>14</td>\n",
       "      <td>0</td>\n",
       "      <td>1</td>\n",
       "    </tr>\n",
       "    <tr>\n",
       "      <th>4</th>\n",
       "      <td>39</td>\n",
       "      <td>0</td>\n",
       "      <td>0</td>\n",
       "      <td>0</td>\n",
       "      <td>0</td>\n",
       "      <td>1</td>\n",
       "      <td>0</td>\n",
       "    </tr>\n",
       "  </tbody>\n",
       "</table>\n",
       "</div>"
      ],
      "text/plain": [
       "   age  juv_fel_count  juv_misd_count  juv_other_count  priors_count  \\\n",
       "0   34              0               0                0             0   \n",
       "1   24              0               0                1             4   \n",
       "2   23              0               1                0             1   \n",
       "3   41              0               0                0            14   \n",
       "4   39              0               0                0             0   \n",
       "\n",
       "   charge_degree_0  charge_degree_1  \n",
       "0                0                1  \n",
       "1                0                1  \n",
       "2                0                1  \n",
       "3                0                1  \n",
       "4                1                0  "
      ]
     },
     "execution_count": 18,
     "metadata": {},
     "output_type": "execute_result"
    }
   ],
   "source": [
    "X.head() # final inputs for training"
   ]
  },
  {
   "cell_type": "code",
   "execution_count": 19,
   "metadata": {
    "id": "2j2F868i2T2N"
   },
   "outputs": [
    {
     "data": {
      "text/plain": [
       "(6150, 7)"
      ]
     },
     "execution_count": 19,
     "metadata": {},
     "output_type": "execute_result"
    }
   ],
   "source": [
    "X.shape"
   ]
  },
  {
   "cell_type": "markdown",
   "metadata": {},
   "source": [
    "## Train - test split"
   ]
  },
  {
   "cell_type": "code",
   "execution_count": 20,
   "metadata": {
    "id": "544JUS9x2T2O"
   },
   "outputs": [],
   "source": [
    "# split into training/test set (60/40)\n",
    "np.random.seed(7)\n",
    "from sklearn.model_selection import train_test_split\n",
    "X_train, X_test, y_train, y_test, y_factual_train, y_factual_test, Z_train, Z_test = train_test_split(X, y,\n",
    "                                                                                    y_factual, Z, test_size = 0.4, \n",
    "                                                                                    stratify = y, random_state=7)"
   ]
  },
  {
   "cell_type": "markdown",
   "metadata": {},
   "source": [
    "## Normalization"
   ]
  },
  {
   "cell_type": "code",
   "execution_count": 21,
   "metadata": {
    "id": "Ac5SjqT8SfwX"
   },
   "outputs": [],
   "source": [
    "# Normalize the data (needed when dealing with NN)\n",
    "from sklearn.preprocessing import MinMaxScaler\n",
    "\n",
    "scaler = MinMaxScaler().fit(X_train)\n",
    "scale_df = lambda df, scaler: pd.DataFrame(scaler.transform(df), columns=df.columns, index=df.index)\n",
    "X_train = X_train.pipe(scale_df, scaler) \n",
    "X_test = X_test.pipe(scale_df, scaler) "
   ]
  },
  {
   "cell_type": "markdown",
   "metadata": {},
   "source": [
    "# Exploration"
   ]
  },
  {
   "cell_type": "markdown",
   "metadata": {},
   "source": [
    "## Sets compostion"
   ]
  },
  {
   "cell_type": "code",
   "execution_count": 30,
   "metadata": {
    "id": "LFfi5dAf2T2S"
   },
   "outputs": [
    {
     "name": "stdout",
     "output_type": "stream",
     "text": [
      "Shapes of different sets\n",
      "(X) (y) (y_factual) (Z)\n",
      "------------------------------------\n",
      "Entire data set: \n",
      "(6150, 7) (6150,) (6150,) (6150, 2)\n",
      "Train data set: \n",
      "(3690, 7) (3690,) (3690,) (3690, 2)\n",
      "Test data set: \n",
      "(2460, 7) (2460,) (2460,) (2460, 2)\n",
      "------------------------------------\n"
     ]
    }
   ],
   "source": [
    "# Information about the sets and their composition to verify balance\n",
    "print('Shapes of different sets')\n",
    "print('(X) (y) (y_factual) (Z)')\n",
    "print('------------------------------------')\n",
    "print('Entire data set: ')\n",
    "print(X.shape, y.shape, y_factual.shape, Z.shape)\n",
    "print('Train data set: ')\n",
    "print(X_train.shape, y_train.shape, y_factual_train.shape, Z_train.shape)\n",
    "print('Test data set: ')\n",
    "print(X_test.shape, y_test.shape, y_factual_test.shape, Z_test.shape)\n",
    "print('------------------------------------')"
   ]
  },
  {
   "cell_type": "code",
   "execution_count": 31,
   "metadata": {},
   "outputs": [
    {
     "name": "stdout",
     "output_type": "stream",
     "text": [
      "Data sets composition for the sensible variables: \n",
      "Count by race (TRAIN): \n",
      " 0    0.598103\n",
      "1    0.401897\n",
      "Name: race, dtype: float64\n",
      "------------------------------------\n",
      "Count by race (TEST): \n",
      " 0    0.605285\n",
      "1    0.394715\n",
      "Name: race, dtype: float64\n",
      "------------------------------------\n",
      "Count by sex (TRAIN): \n",
      " 1    0.800813\n",
      "0    0.199187\n",
      "Name: sex, dtype: float64\n",
      "------------------------------------\n",
      "Count by sex (TEST): \n",
      " 1    0.803252\n",
      "0    0.196748\n",
      "Name: sex, dtype: float64\n",
      "------------------------------------\n"
     ]
    }
   ],
   "source": [
    "z_count_by_race_test = Z_test['race'].value_counts(normalize = True)\n",
    "z_count_by_sex_test = Z_test['sex'].value_counts(normalize = True)\n",
    "z_count_by_race_train = Z_train['race'].value_counts(normalize = True)\n",
    "z_count_by_sex_train = Z_train['sex'].value_counts(normalize = True)\n",
    "print('Data sets composition for the sensible variables: ')\n",
    "print('Count by race (TRAIN): \\n', z_count_by_race_train)\n",
    "print('------------------------------------')\n",
    "print('Count by race (TEST): \\n', z_count_by_race_test)\n",
    "print('------------------------------------')\n",
    "print('Count by sex (TRAIN): \\n', z_count_by_sex_train)\n",
    "print('------------------------------------')\n",
    "print('Count by sex (TEST): \\n', z_count_by_sex_test)\n",
    "print('------------------------------------')"
   ]
  },
  {
   "cell_type": "markdown",
   "metadata": {},
   "source": [
    "## Visualization"
   ]
  },
  {
   "cell_type": "code",
   "execution_count": 33,
   "metadata": {
    "id": "RHds1e7ar4YN"
   },
   "outputs": [
    {
     "data": {
      "text/html": [
       "<div>\n",
       "<style scoped>\n",
       "    .dataframe tbody tr th:only-of-type {\n",
       "        vertical-align: middle;\n",
       "    }\n",
       "\n",
       "    .dataframe tbody tr th {\n",
       "        vertical-align: top;\n",
       "    }\n",
       "\n",
       "    .dataframe thead th {\n",
       "        text-align: right;\n",
       "    }\n",
       "</style>\n",
       "<table border=\"1\" class=\"dataframe\">\n",
       "  <thead>\n",
       "    <tr style=\"text-align: right;\">\n",
       "      <th></th>\n",
       "      <th>race</th>\n",
       "      <th>sex</th>\n",
       "      <th>true recid</th>\n",
       "      <th>COMPAS recid</th>\n",
       "    </tr>\n",
       "  </thead>\n",
       "  <tbody>\n",
       "    <tr>\n",
       "      <th>0</th>\n",
       "      <td>0</td>\n",
       "      <td>1</td>\n",
       "      <td>1</td>\n",
       "      <td>1</td>\n",
       "    </tr>\n",
       "    <tr>\n",
       "      <th>1</th>\n",
       "      <td>0</td>\n",
       "      <td>1</td>\n",
       "      <td>0</td>\n",
       "      <td>0</td>\n",
       "    </tr>\n",
       "    <tr>\n",
       "      <th>2</th>\n",
       "      <td>0</td>\n",
       "      <td>1</td>\n",
       "      <td>0</td>\n",
       "      <td>1</td>\n",
       "    </tr>\n",
       "    <tr>\n",
       "      <th>3</th>\n",
       "      <td>0</td>\n",
       "      <td>1</td>\n",
       "      <td>1</td>\n",
       "      <td>1</td>\n",
       "    </tr>\n",
       "    <tr>\n",
       "      <th>4</th>\n",
       "      <td>1</td>\n",
       "      <td>1</td>\n",
       "      <td>1</td>\n",
       "      <td>1</td>\n",
       "    </tr>\n",
       "  </tbody>\n",
       "</table>\n",
       "</div>"
      ],
      "text/plain": [
       "   race  sex  true recid  COMPAS recid\n",
       "0     0    1           1             1\n",
       "1     0    1           0             0\n",
       "2     0    1           0             1\n",
       "3     0    1           1             1\n",
       "4     1    1           1             1"
      ]
     },
     "execution_count": 33,
     "metadata": {},
     "output_type": "execute_result"
    }
   ],
   "source": [
    "# Create a dataframe to perform Exploratory Analysis (training set)\n",
    "y_train_TRUE = pd.DataFrame(y_factual_train) # Actual criminal activity within 2 years\n",
    "train_data = Z_train.copy() # sensible attributes (race and sex)\n",
    "train_data['true recid']=y_train_TRUE.loc[:,'two_year_recid']\n",
    "y_train_COMPAS = pd.DataFrame(y_train) # COMPAS prediction of recidivism risk\n",
    "train_data['COMPAS recid']=y_train_COMPAS.loc[:,'target']\n",
    "train_data = train_data.reset_index(drop = True)\n",
    "train_data.head()"
   ]
  },
  {
   "cell_type": "code",
   "execution_count": 34,
   "metadata": {
    "id": "UHNVL207xEQw"
   },
   "outputs": [
    {
     "data": {
      "image/png": "[encoded data removed]",
      "text/plain": [
       "<Figure size 288x288 with 1 Axes>"
      ]
     },
     "metadata": {},
     "output_type": "display_data"
    },
    {
     "data": {
      "image/png": "[encoded data removed]",
      "text/plain": [
       "<Figure size 288x288 with 1 Axes>"
      ]
     },
     "metadata": {},
     "output_type": "display_data"
    }
   ],
   "source": [
    "# Pie plot to verify composition by race and sex\n",
    "race_train = train_data.groupby('race').size()\n",
    "sex_train = train_data.groupby('sex').size()\n",
    "race_train.plot(kind='pie', subplots=True, figsize=(4, 4))\n",
    "plt.title(\"Train composition by race\")\n",
    "plt.ylabel(\"\")\n",
    "plt.show()\n",
    "\n",
    "sex_train.plot(kind='pie', subplots=True, figsize=(4, 4))\n",
    "plt.title(\"Train composition by sex\")\n",
    "plt.ylabel(\"\")\n",
    "plt.show()"
   ]
  },
  {
   "cell_type": "code",
   "execution_count": 41,
   "metadata": {
    "id": "V5iKRxUmtyEp"
   },
   "outputs": [
    {
     "data": {
      "image/png": "[encoded data removed]",
      "text/plain": [
       "<Figure size 432x288 with 1 Axes>"
      ]
     },
     "metadata": {
      "needs_background": "light"
     },
     "output_type": "display_data"
    },
    {
     "data": {
      "image/png": "[encoded data removed]",
      "text/plain": [
       "<Figure size 432x288 with 1 Axes>"
      ]
     },
     "metadata": {
      "needs_background": "light"
     },
     "output_type": "display_data"
    },
    {
     "data": {
      "image/png": "[encoded data removed]",
      "text/plain": [
       "<Figure size 432x288 with 1 Axes>"
      ]
     },
     "metadata": {
      "needs_background": "light"
     },
     "output_type": "display_data"
    },
    {
     "data": {
      "image/png": "[encoded data removed]",
      "text/plain": [
       "<Figure size 432x288 with 1 Axes>"
      ]
     },
     "metadata": {
      "needs_background": "light"
     },
     "output_type": "display_data"
    }
   ],
   "source": [
    "# Bar plot to verify prediction of COMPAS vs Real recidivism by sex and race\n",
    "train_data.groupby(['true recid','race']).size().unstack().plot(kind='bar',stacked=True, \n",
    "                                                            title = 'Real Recidivism by race')\n",
    "plt.legend(labels = ['black','white'], loc = 'center')\n",
    "plt.show()\n",
    "train_data.groupby(['true recid','sex']).size().unstack().plot(kind='bar',stacked=True, title = 'Real Recidivism by sex')\n",
    "plt.legend(labels = ['female', 'male'], loc = 'center')\n",
    "plt.show()\n",
    "train_data.groupby(['COMPAS recid','race']).size().unstack().plot(kind='bar',stacked=True, title = 'COMPAS predicted recidivism by race')\n",
    "plt.legend(labels = ['black','white'], loc = 'center')\n",
    "plt.show()\n",
    "train_data.groupby(['COMPAS recid','sex']).size().unstack().plot(kind='bar',stacked=True, title = 'COMPAS predicted recidivism by sex')\n",
    "plt.legend(labels = ['female', 'male'], loc = 'center')\n",
    "plt.show()"
   ]
  },
  {
   "cell_type": "markdown",
   "metadata": {},
   "source": [
    "# First Conclusions"
   ]
  },
  {
   "cell_type": "markdown",
   "metadata": {},
   "source": [
    "Based on data exploration, we can conclude that, as expected, the data set AS IS is not balanced with respect to race and sex. \n",
    "\n",
    "This alone is a big red flag in terms of bias and a relevant factor to keep in mind when interpreting model results. "
   ]
  }
 ],
 "metadata": {
  "accelerator": "GPU",
  "colab": {
   "collapsed_sections": [],
   "name": "MGiuliani_SCRIPT",
   "provenance": []
  },
  "kernelspec": {
   "display_name": "Python 3",
   "language": "python",
   "name": "python3"
  },
  "language_info": {
   "codemirror_mode": {
    "name": "ipython",
    "version": 3
   },
   "file_extension": ".py",
   "mimetype": "text/x-python",
   "name": "python",
   "nbconvert_exporter": "python",
   "pygments_lexer": "ipython3",
   "version": "3.6.12"
  }
 },
 "nbformat": 4,
 "nbformat_minor": 1
}
