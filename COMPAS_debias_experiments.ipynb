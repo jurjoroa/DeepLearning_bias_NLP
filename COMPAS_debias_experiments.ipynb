{
 "cells": [
  {
   "cell_type": "code",
   "execution_count": 1,
   "metadata": {
    "collapsed": true
   },
   "outputs": [],
   "source": [
    "from sklearn import linear_model\n",
    "import pandas as pd\n",
    "import numpy as np\n",
    "import math\n",
    "import random\n",
    "import matplotlib.pyplot as plt\n",
    "import warnings\n",
    "warnings.filterwarnings(\"ignore\")"
   ]
  },
  {
   "cell_type": "markdown",
   "metadata": {},
   "source": [
    "# The Propublica/COMPAS Recidivism Data Set\n",
    "## Loading the Data\n",
    "Below, `allowed_factors` shows all of the data that the Propublica data set contains with 7214 people and 53 features. \n",
    "\n",
    "I have commented out the factors that are not relevant for predicting recidivism, not useful for debiasing, or not useful for measuring accuracy. \n",
    "\n",
    "If it is unclear what a variable is, I put a comment indicating what I think it is."
   ]
  },
  {
   "cell_type": "code",
   "execution_count": 2,
   "metadata": {
    "collapsed": false
   },
   "outputs": [
    {
     "name": "stdout",
     "output_type": "stream",
     "text": [
      "(#people, #features) = (7214, 53)\n"
     ]
    }
   ],
   "source": [
    "raw_data = pd.read_csv(\"./compas-scores-two-years.csv\")\n",
    "print('(#people, #features) =', raw_data.shape)"
   ]
  },
  {
   "cell_type": "code",
   "execution_count": 3,
   "metadata": {
    "collapsed": true
   },
   "outputs": [],
   "source": [
    "allowed_factors = [\n",
    "    #'id',\n",
    "    #'name',\n",
    "    #'first',\n",
    "    #'last',\n",
    "    #'compas_screening_date',\n",
    "    #'sex',\n",
    "    #'dob',\n",
    "    #'age_cat',\n",
    "    'race',\n",
    "    'decile_score', #COMPAS score\n",
    "    'age',\n",
    "    'juv_fel_count', \n",
    "    'juv_misd_count',\n",
    "    'juv_other_count',\n",
    "    'priors_count',\n",
    "    #'days_b_screening_arrest', propublica uses this to filter data\n",
    "    #  'c_jail_in', date\n",
    "    #  'c_jail_out', date\n",
    "    #  'c_case_number',\n",
    "    #  'c_offense_date',\n",
    "    #  'c_arrest_date',\n",
    "    #  'c_days_from_compas',\n",
    "    'c_charge_degree', #Misdemeanor or felony for original charge, need to make categorical\n",
    "    #'c_charge_desc',\n",
    "    'is_recid', \n",
    "    #'r_case_number',\n",
    "    'r_charge_degree',#Misdemeanor or felony of re-offense, need to make categorical\n",
    "    #  'r_days_from_arrest',\n",
    "    #  'r_offense_date',\n",
    "    #  'r_charge_desc',\n",
    "    #  'r_jail_in',\n",
    "    #  'r_jail_out',\n",
    "    #'violent_recid', #all are NAN\n",
    "    'is_violent_recid', #hey we can use this for groups!\n",
    "    #  'vr_case_number',\n",
    "    'vr_charge_degree', #maybe remove this from r_charge degree\n",
    "    #  'vr_offense_date',\n",
    "    #  'vr_charge_desc', #weird that vr_charge_desc and r_charge_desc do not overlap\n",
    "    #  'type_of_assessment',\n",
    "    #  'decile_score.1',#same as decile score?\n",
    "    'score_text',#low, medium, high risk based on COMPAS\n",
    "    #  'screening_date',\n",
    "    #  'v_type_of_assessment',\n",
    "    #  'v_decile_score',\n",
    "    #  'v_score_text', #low, medium high\n",
    "    #  'v_screening_date',\n",
    "    #  'in_custody',\n",
    "    #  'out_custody',\n",
    "    #'priors_count.1', #not sure what the dif is from priors_count. it is the same\n",
    "    #  'start',\n",
    "    #  'end',\n",
    "    # 'event', #no clue what this means?!?\n",
    "    #'two_year_recid' # same as is_recid\n",
    "] "
   ]
  },
  {
   "cell_type": "code",
   "execution_count": 4,
   "metadata": {
    "collapsed": true
   },
   "outputs": [],
   "source": [
    "predictive_features = [ # comment or uncomment any features to use in logistic regression training\n",
    "    'age',\n",
    "    'juv_fel_count',\n",
    "    'juv_misd_count',\n",
    "    'juv_other_count',\n",
    "    'priors_count',\n",
    "    #'c_charge_degree' #<-- not included in COMPAS algorithm\n",
    "    ]\n",
    "\n",
    "protected_features = ['race']"
   ]
  },
  {
   "cell_type": "markdown",
   "metadata": {},
   "source": [
    "Filter the data just as Propublica does [here](https://github.com/propublica/compas-analysis/blob/master/Compas%20Analysis.ipynb) and only include African Americans and Caucasians, leaving $\\sim$ 5000 people."
   ]
  },
  {
   "cell_type": "code",
   "execution_count": 5,
   "metadata": {
    "collapsed": false
   },
   "outputs": [
    {
     "name": "stdout",
     "output_type": "stream",
     "text": [
      "the dimensions of final_data are (5278, 13)\n"
     ]
    }
   ],
   "source": [
    "filtered_data = raw_data.loc[(raw_data['is_recid'] != -1) & \n",
    "                             (raw_data['days_b_screening_arrest'] <=30) &\n",
    "                             (raw_data['days_b_screening_arrest'] >=-30) &\n",
    "                             (raw_data['c_charge_degree'] != 'O') &\n",
    "                             (raw_data['score_text'] != 'N/A') &\n",
    "                             (raw_data['race'].isin(['African-American', 'Caucasian']))\n",
    "                            ]\n",
    "final_data = filtered_data[allowed_factors]\n",
    "# reset index skewed by removing rows\n",
    "final_data = final_data.reset_index()\n",
    "del final_data[\"index\"]\n",
    "print('the dimensions of final_data are', final_data.shape)\n",
    "final_data[['r_charge_degree']] = final_data[['r_charge_degree']].fillna(0)"
   ]
  },
  {
   "cell_type": "markdown",
   "metadata": {},
   "source": [
    "Change current charge and race into 0/1"
   ]
  },
  {
   "cell_type": "code",
   "execution_count": 6,
   "metadata": {
    "collapsed": true
   },
   "outputs": [],
   "source": [
    "def coding(col, code_dict):\n",
    "    '''\n",
    "    col: column of df to change encoding\n",
    "    code_dict: {'key':value,...}\n",
    "    '''\n",
    "    col_coded = pd.Series(col, copy=True)\n",
    "    for key, value in code_dict.items():\n",
    "        col_coded.replace(key, value, inplace=True)\n",
    "    return col_coded"
   ]
  },
  {
   "cell_type": "code",
   "execution_count": 7,
   "metadata": {
    "collapsed": false
   },
   "outputs": [
    {
     "data": {
      "text/html": [
       "<div>\n",
       "<style scoped>\n",
       "    .dataframe tbody tr th:only-of-type {\n",
       "        vertical-align: middle;\n",
       "    }\n",
       "\n",
       "    .dataframe tbody tr th {\n",
       "        vertical-align: top;\n",
       "    }\n",
       "\n",
       "    .dataframe thead th {\n",
       "        text-align: right;\n",
       "    }\n",
       "</style>\n",
       "<table border=\"1\" class=\"dataframe\">\n",
       "  <thead>\n",
       "    <tr style=\"text-align: right;\">\n",
       "      <th></th>\n",
       "      <th>race</th>\n",
       "      <th>decile_score</th>\n",
       "      <th>age</th>\n",
       "      <th>juv_fel_count</th>\n",
       "      <th>juv_misd_count</th>\n",
       "      <th>juv_other_count</th>\n",
       "      <th>priors_count</th>\n",
       "      <th>c_charge_degree</th>\n",
       "      <th>is_recid</th>\n",
       "      <th>r_charge_degree</th>\n",
       "      <th>is_violent_recid</th>\n",
       "      <th>vr_charge_degree</th>\n",
       "      <th>score_text</th>\n",
       "    </tr>\n",
       "  </thead>\n",
       "  <tbody>\n",
       "    <tr>\n",
       "      <th>0</th>\n",
       "      <td>1</td>\n",
       "      <td>3</td>\n",
       "      <td>34</td>\n",
       "      <td>0</td>\n",
       "      <td>0</td>\n",
       "      <td>0</td>\n",
       "      <td>0</td>\n",
       "      <td>1</td>\n",
       "      <td>1</td>\n",
       "      <td>(F3)</td>\n",
       "      <td>1</td>\n",
       "      <td>(F3)</td>\n",
       "      <td>Low</td>\n",
       "    </tr>\n",
       "    <tr>\n",
       "      <th>1</th>\n",
       "      <td>1</td>\n",
       "      <td>4</td>\n",
       "      <td>24</td>\n",
       "      <td>0</td>\n",
       "      <td>0</td>\n",
       "      <td>1</td>\n",
       "      <td>4</td>\n",
       "      <td>1</td>\n",
       "      <td>1</td>\n",
       "      <td>(M1)</td>\n",
       "      <td>0</td>\n",
       "      <td>NaN</td>\n",
       "      <td>Low</td>\n",
       "    </tr>\n",
       "    <tr>\n",
       "      <th>2</th>\n",
       "      <td>0</td>\n",
       "      <td>6</td>\n",
       "      <td>41</td>\n",
       "      <td>0</td>\n",
       "      <td>0</td>\n",
       "      <td>0</td>\n",
       "      <td>14</td>\n",
       "      <td>1</td>\n",
       "      <td>1</td>\n",
       "      <td>(F2)</td>\n",
       "      <td>0</td>\n",
       "      <td>NaN</td>\n",
       "      <td>Medium</td>\n",
       "    </tr>\n",
       "    <tr>\n",
       "      <th>3</th>\n",
       "      <td>0</td>\n",
       "      <td>1</td>\n",
       "      <td>39</td>\n",
       "      <td>0</td>\n",
       "      <td>0</td>\n",
       "      <td>0</td>\n",
       "      <td>0</td>\n",
       "      <td>0</td>\n",
       "      <td>0</td>\n",
       "      <td>0</td>\n",
       "      <td>0</td>\n",
       "      <td>NaN</td>\n",
       "      <td>Low</td>\n",
       "    </tr>\n",
       "    <tr>\n",
       "      <th>4</th>\n",
       "      <td>0</td>\n",
       "      <td>4</td>\n",
       "      <td>27</td>\n",
       "      <td>0</td>\n",
       "      <td>0</td>\n",
       "      <td>0</td>\n",
       "      <td>0</td>\n",
       "      <td>1</td>\n",
       "      <td>0</td>\n",
       "      <td>0</td>\n",
       "      <td>0</td>\n",
       "      <td>NaN</td>\n",
       "      <td>Low</td>\n",
       "    </tr>\n",
       "  </tbody>\n",
       "</table>\n",
       "</div>"
      ],
      "text/plain": [
       "   race  decile_score  age  juv_fel_count  juv_misd_count  juv_other_count  \\\n",
       "0     1             3   34              0               0                0   \n",
       "1     1             4   24              0               0                1   \n",
       "2     0             6   41              0               0                0   \n",
       "3     0             1   39              0               0                0   \n",
       "4     0             4   27              0               0                0   \n",
       "\n",
       "   priors_count  c_charge_degree  is_recid r_charge_degree  is_violent_recid  \\\n",
       "0             0                1         1            (F3)                 1   \n",
       "1             4                1         1            (M1)                 0   \n",
       "2            14                1         1            (F2)                 0   \n",
       "3             0                0         0               0                 0   \n",
       "4             0                1         0               0                 0   \n",
       "\n",
       "  vr_charge_degree score_text  \n",
       "0             (F3)        Low  \n",
       "1              NaN        Low  \n",
       "2              NaN     Medium  \n",
       "3              NaN        Low  \n",
       "4              NaN        Low  "
      ]
     },
     "execution_count": 7,
     "metadata": {},
     "output_type": "execute_result"
    }
   ],
   "source": [
    "# for c_charge_degree, change M(misdomeaner)/F(felony) to 0/1\n",
    "final_data[\"c_charge_degree\"] = coding(final_data[\"c_charge_degree\"], {'M':0,'F':1})\n",
    "\n",
    "# for race, change Caucasian/African-American to 0/1\n",
    "final_data[\"race\"] = coding(final_data[\"race\"], {'Caucasian':0, 'African-American':1})\n",
    "\n",
    "final_data.head(5)"
   ]
  },
  {
   "cell_type": "markdown",
   "metadata": {},
   "source": [
    "## Now we need to shuffle the data and split it into 3 pieces:\n",
    "<ol>\n",
    "  <li>A debiasing train set we use to debias the data.</li>\n",
    "  <li>A training set to train logistic regression.</li>\n",
    "  <li>A test set to measure false positive rates, false negative rates, etc.</li>\n",
    "</ol>"
   ]
  },
  {
   "cell_type": "code",
   "execution_count": 8,
   "metadata": {
    "collapsed": true
   },
   "outputs": [],
   "source": [
    "from sklearn.model_selection import train_test_split\n",
    "def split_data(df, debias_train_size, standard_training_set_percentage):\n",
    "    '''\n",
    "    Splits data into testing, training, and debias estimator sets\n",
    "    \n",
    "    Args:\n",
    "        df: dataframe\n",
    "        debias_train_size: at least 10 * number of feautes\n",
    "        standard_training_set_percentage: percentage split for train/test of df\\debias_train_df\n",
    "        \n",
    "    Returns: \n",
    "        debias_train_df\n",
    "        train_df\n",
    "        test_df\n",
    "    '''\n",
    "    debias_train_index = random.sample(range(df.shape[0]), debias_train_size)\n",
    "    debias_train_df = df.loc[debias_train_index,:]\n",
    "    \n",
    "    df = df.drop(debias_train_index)\n",
    "    \n",
    "    train_df, test_df = train_test_split(df, train_size=standard_training_set_percentage, shuffle=True)\n",
    "    \n",
    "    test_df = test_df.reset_index()\n",
    "    del test_df[\"index\"]\n",
    "    \n",
    "    train_df = train_df.reset_index()\n",
    "    del train_df[\"index\"]\n",
    "    \n",
    "    debias_train_df = debias_train_df.reset_index()\n",
    "    del debias_train_df[\"index\"]\n",
    "    \n",
    "    return debias_train_df, train_df, test_df"
   ]
  },
  {
   "cell_type": "markdown",
   "metadata": {},
   "source": [
    "## Debiasing Features"
   ]
  },
  {
   "cell_type": "markdown",
   "metadata": {},
   "source": [
    "We assume that the data $Y = X A^T + Z B^T + E$, where $X$ is protected attributes like gender, $Z$ are unknown but are \"discriminative\" attributes and $E$ is an error term. \n",
    "\n",
    "We partition the rows of $Y$ into multiple \"homogeneous groups\": \n",
    "<ol>\n",
    "  <li>Consider those who have been charged with a **non-violent** crime within 2 years. We split this set into multiple groups depending on whether or not someone has commmitted a $n$th degree felony or misdemeanor. </li>\n",
    "  <li>Consider those who have been charged with a **violent** crime within 2 years. We split this set into multiple groups depending on whether or not someone has commmitted a $n$th degree felony or misdemeanor. </li>\n",
    "  <li>Those who have **not** committed a crime after 2 years.</li>\n",
    "</ol>\n",
    "\n",
    "We assume that when the text of `vr_charge_degree` and `r_charge_degree` do not match for a person, it is due to one incident resulting in different violent and non-violent charges. In the case when someone recidivates and this incident results in a non-violent and violent charge, we only consider the violent charge.\n",
    "\n",
    "To debias the data, we use least squares to estimate $A$."
   ]
  },
  {
   "cell_type": "code",
   "execution_count": 9,
   "metadata": {
    "collapsed": true
   },
   "outputs": [],
   "source": [
    "# encode race as dummmy variables for OLS estimate\n",
    "def race_dummy_encoding(df_race, white_black_ecoding):\n",
    "    white = white_black_ecoding[0]\n",
    "    black = white_black_ecoding[1]\n",
    "    white_dummy_encoding = [1 if x == white else 0 for x in df_race]\n",
    "    black_dummy_encoding = [1 if x == black else 0 for x in df_race]\n",
    "    return pd.DataFrame({\"white\":white_dummy_encoding, \"black\":black_dummy_encoding})"
   ]
  },
  {
   "cell_type": "code",
   "execution_count": 10,
   "metadata": {
    "collapsed": true
   },
   "outputs": [],
   "source": [
    "def recid_no_recid_index(is_resid, group_elements):\n",
    "    group_indices = []\n",
    "    for i, element in enumerate (group_elements):\n",
    "        group_indices.append(np.where(col == element))\n",
    "        group_indices[i] = list(group_indices[i][0])\n",
    "    \n",
    "    return group_indices\n",
    "\n",
    "def violent_nonviolent_norecid_index(is_violent_recid, is_recid):\n",
    "    group_indices = [None]*3\n",
    "    violent_index = np.where(is_violent_recid == 1)[0]\n",
    "    group_indices[0] = violent_index\n",
    "\n",
    "    is_recid_dropped = is_recid.drop(violent_index, inplace=False)\n",
    "    \n",
    "    group_indices[1] = is_recid_dropped[is_recid_dropped == 1].index\n",
    "    \n",
    "    group_indices[2] = is_recid_dropped[is_recid_dropped == 0].index\n",
    "    \n",
    "    return group_indices\n",
    "\n",
    "def all_cat_index(vr_charge_degree, r_charge_degree): # <--current one in use\n",
    "\n",
    "    group_dict = {}\n",
    "    \n",
    "    # ['(F3)', '(M1)', '(F2)', '(F1)', '(F6)', '(F7)', '(M2)']\n",
    "    vr_charge = vr_charge_degree.dropna().unique()\n",
    "    \n",
    "    for charge in vr_charge:\n",
    "        group_dict[charge] = np.where(vr_charge_degree == charge)[0]\n",
    "        \n",
    "    # don't double count those already indexed by a violent crime\n",
    "    drop = np.concatenate(list(group_dict.values()))\n",
    "    r_charge_degree_dropped = r_charge_degree.drop(drop, inplace=False)\n",
    "    \n",
    "    # ['(M1)', 0 (no recid), '(M2)', '(F2)', '(F3)', '(F6)', '(F1)', '(F7)', '(MO3)']\n",
    "    r_charge = r_charge_degree.unique()\n",
    "\n",
    "    for charge in r_charge:\n",
    "        group_dict[(charge, 'nonV')] = r_charge_degree_dropped[r_charge_degree_dropped ==charge].index\n",
    "\n",
    "    return list(group_dict.values())\n",
    "    "
   ]
  },
  {
   "cell_type": "code",
   "execution_count": 11,
   "metadata": {
    "collapsed": true
   },
   "outputs": [],
   "source": [
    "def center_by_homogeneous_subgroups(group_indices, Y):\n",
    "    '''\n",
    "    Args:\n",
    "        Y: dataframe to debias\n",
    "        group_indices: array whose elements are list of indices for the homogeneous subgroups\n",
    "    Returns:\n",
    "        centered Y\n",
    "    '''\n",
    "    G = pd.DataFrame(columns=list(Y))\n",
    "    for g in  group_indices:\n",
    "        G = G.append(Y.loc[g] - Y.loc[g].mean(0)) \n",
    "    centered_Y = G.sort_index(0)\n",
    "        \n",
    "    return centered_Y"
   ]
  },
  {
   "cell_type": "code",
   "execution_count": 12,
   "metadata": {
    "collapsed": true
   },
   "outputs": [],
   "source": [
    "def estimate_A(centered_Y_train, X, fit_intercept):\n",
    "    ols = linear_model.LinearRegression(fit_intercept)\n",
    "    ols.fit(X, centered_Y_train)\n",
    "    A_hat = ols.coef_\n",
    "    b = ols.intercept_\n",
    "    return A_hat, b"
   ]
  },
  {
   "cell_type": "code",
   "execution_count": 13,
   "metadata": {
    "collapsed": true
   },
   "outputs": [],
   "source": [
    "def biased_debiased_probs(data, debias_train_size, train_percentage_split):\n",
    "    # split into testing/training/debias estimate sets\n",
    "    debias_train_df, train_df, test_df = split_data(data, debias_train_size, train_percentage_split)\n",
    "\n",
    "    # encode dummy race variables for debias training set\n",
    "    X_dummy_encoding = race_dummy_encoding(debias_train_df[protected_features].race, [0,1])\n",
    "\n",
    "    # Y for debias training\n",
    "    Y = debias_train_df[predictive_features]\n",
    "\n",
    "    # get group indices\n",
    "    group_indices = all_cat_index(debias_train_df.vr_charge_degree, debias_train_df.r_charge_degree)\n",
    "    # center by group indices\n",
    "    centered_Y_train = center_by_homogeneous_subgroups(group_indices, Y)\n",
    "\n",
    "    # get estimate of A\n",
    "    A_hat, b = estimate_A(centered_Y_train, X_dummy_encoding, True)\n",
    "    \n",
    "    # ecode dummy race varialbes for training and testing set\n",
    "    train_race_dummy_encoding = race_dummy_encoding(train_df.race, [0,1])\n",
    "    test_race_dummy_encoding = race_dummy_encoding(test_df.race, [0,1])\n",
    "    \n",
    "    train = train_df[predictive_features]\n",
    "    train_debiased = train - np.matmul(train_race_dummy_encoding.values,A_hat.T)-b.T\n",
    "\n",
    "    test = test_df[predictive_features]\n",
    "    test_debiased = test - np.matmul(test_race_dummy_encoding.values,A_hat.T)-b.T\n",
    "    \n",
    "    logit = linear_model.LogisticRegression()\n",
    "    logit_debiased = linear_model.LogisticRegression()\n",
    "    logit.fit(train, train_df.is_recid)\n",
    "    logit_debiased.fit(train_debiased, train_df.is_recid)\n",
    "\n",
    "    probs = list(logit.predict_proba(test)[:,1])\n",
    "    probs_debiased = list(logit_debiased.predict_proba(test_debiased)[:,1])\n",
    "\n",
    "    return probs, probs_debiased, test_df.race, test_df.decile_score, test_df.is_recid"
   ]
  },
  {
   "cell_type": "code",
   "execution_count": 14,
   "metadata": {
    "collapsed": true
   },
   "outputs": [],
   "source": [
    "def FPR(prediction, recid_label):\n",
    "    '''\n",
    "    false positive/(false positive + true negative)\n",
    "    '''\n",
    "    FP = sum([1 for x in range(len(prediction)) if prediction[x] == 1 and recid_label[x] ==0])\n",
    "    TN = sum([1 for x in range(len(prediction)) if prediction[x] == 0 and recid_label[x] ==0])\n",
    "    return FP/(FP+TN)\n",
    "\n",
    "def FNR(prediction, recid_label):\n",
    "    '''\n",
    "    false negative/(false negative + true positive)\n",
    "    '''\n",
    "    FN = sum([1 for x in range(len(prediction)) if prediction[x] == 0 and recid_label[x] ==1])\n",
    "    TP = sum([1 for x in range(len(prediction)) if prediction[x] == 1 and recid_label[x] ==1])\n",
    "    return FN/(FN+TP)\n",
    "\n",
    "def FPR_FNR_accuracy(recid_label, race, score, threshold=.5):\n",
    "    white_index = np.where(race == 0)[0]\n",
    "    black_index = np.where(race == 1)[0]\n",
    "    \n",
    "    prediction = np.array([1 if x >= threshold else 0 for x in score])\n",
    "    \n",
    "    pop_FPR = FPR(prediction, recid_label)\n",
    "    pop_FNR = FNR(prediction, recid_label)\n",
    "    \n",
    "    white_FPR = FPR([prediction[i] for i in white_index], [recid_label[i] for i in white_index])\n",
    "    white_FNR = FNR([prediction[i] for i in white_index], [recid_label[i] for i in white_index])\n",
    "    \n",
    "    black_FPR = FPR([prediction[i] for i in black_index], [recid_label[i] for i in black_index])\n",
    "    black_FNR = FNR([prediction[i] for i in black_index], [recid_label[i] for i in black_index])\n",
    "    \n",
    "    accuracy = sum(prediction == recid_label)/len(recid_label)\n",
    "    \n",
    "    return [pop_FPR, pop_FNR, white_FPR, white_FNR, black_FPR, black_FNR], accuracy"
   ]
  },
  {
   "cell_type": "markdown",
   "metadata": {},
   "source": [
    "## Logistic Regression as a proxy to COMPAS"
   ]
  },
  {
   "cell_type": "markdown",
   "metadata": {},
   "source": [
    "We use logistic regression."
   ]
  },
  {
   "cell_type": "code",
   "execution_count": 15,
   "metadata": {
    "collapsed": true
   },
   "outputs": [],
   "source": [
    "def get_logistic_threshold(scores, logistic_quantile=50):\n",
    "    return np.percentile(scores, logistic_quantile, interpolation='midpoint')"
   ]
  },
  {
   "cell_type": "code",
   "execution_count": 16,
   "metadata": {
    "collapsed": true
   },
   "outputs": [],
   "source": [
    "def plot_prob_hist(probs, race):\n",
    "    print('the avg is', np.mean(probs))\n",
    "    print('the median is', np.median(probs))\n",
    "    \n",
    "    probabilities_AA = [probs[i] for i in np.where(race == 1)[0]]\n",
    "    probabilities_white = [probs[i] for i in np.where(race == 0)[0]]\n",
    "    \n",
    "    plt.hist(probs, bins = 25)\n",
    "    plt.title(\"Histogram of Probabilities of Recidivism from Logistic Regression on Test Set\")\n",
    "    plt.xlabel(\"probability from logistic regression\")\n",
    "    plt.ylabel(\"Number of people\")\n",
    "    plt.ylim((0,200))\n",
    "    plt.show()\n",
    "\n",
    "    print('Notice the difference in scale on the y-axis!')\n",
    "    probabilities_AA = [probs[i] for i in np.where(race == 1)[0]]\n",
    "    probabilities_white = [probs[i] for i in np.where(race == 0)[0]]\n",
    "    \n",
    "    ax1 = plt.subplot(121)\n",
    "    ax1.set_ylim([0,140])\n",
    "    \n",
    "    plt.subplot(1,2,1)\n",
    "    plt.hist(probabilities_AA, bins = 25)\n",
    "    plt.title(\"Histogram of Probabilities \\n of Recidivism for African-Americans \\n under LR \\n on Test Set\")\n",
    "    plt.xlabel(\"probability from logistic regression\")\n",
    "    plt.ylabel(\"Number of African-Americans\")\n",
    "\n",
    "    plt.subplot(1,2,2)\n",
    "    plt.hist(probabilities_white, bins = 25)\n",
    "    plt.title(\"Histogram of Probabilities \\n of Recidivism for Caucasians \\n under LR \\n on Test Set\")\n",
    "\n",
    "    plt.xlabel(\"probability from logistic regression\")\n",
    "    plt.ylabel(\"Number of Caucasians\")\n",
    "    plt.tight_layout()\n",
    "    plt.ylim((0,140))\n",
    "    plt.show()    \n",
    "    \n",
    "    "
   ]
  },
  {
   "cell_type": "markdown",
   "metadata": {},
   "source": [
    "## Quality of logistic regression trained on biased or debiased data & comparison to COMPAS\n",
    "\n",
    "First we look at the distribution of probabilities assigned by logistic regression on the whole population and on both the white and black population separately for one split on both the biased and debiased data set."
   ]
  },
  {
   "cell_type": "code",
   "execution_count": 18,
   "metadata": {
    "collapsed": false
   },
   "outputs": [
    {
     "ename": "AttributeError",
     "evalue": "'DataFrame' object has no attribute 'append'",
     "output_type": "error",
     "traceback": [
      "\u001b[0;31m---------------------------------------------------------------------------\u001b[0m",
      "\u001b[0;31mAttributeError\u001b[0m                            Traceback (most recent call last)",
      "\u001b[0;32m/var/folders/q3/ztffc4r10tv5h4pftjr2qw0r0000gn/T/ipykernel_71503/31026023.py\u001b[0m in \u001b[0;36m?\u001b[0;34m()\u001b[0m\n\u001b[0;32m----> 4\u001b[0;31m \u001b[0mdebias_train_size\u001b[0m \u001b[0;34m=\u001b[0m \u001b[0;36m1000\u001b[0m\u001b[0;34m\u001b[0m\u001b[0;34m\u001b[0m\u001b[0m\n\u001b[0m\u001b[1;32m      5\u001b[0m \u001b[0mtrain_percentage_split\u001b[0m \u001b[0;34m=\u001b[0m \u001b[0;36m.6\u001b[0m\u001b[0;34m\u001b[0m\u001b[0;34m\u001b[0m\u001b[0m\n\u001b[1;32m      6\u001b[0m \u001b[0;34m\u001b[0m\u001b[0m\n\u001b[1;32m      7\u001b[0m probs, probs_debiased, race, compas_decile_score, true_label = biased_debiased_probs(final_data, debias_train_size,  \n",
      "\u001b[0;32m/var/folders/q3/ztffc4r10tv5h4pftjr2qw0r0000gn/T/ipykernel_71503/2844834386.py\u001b[0m in \u001b[0;36m?\u001b[0;34m(data, debias_train_size, train_percentage_split)\u001b[0m\n\u001b[1;32m     10\u001b[0m \u001b[0;34m\u001b[0m\u001b[0m\n\u001b[1;32m     11\u001b[0m     \u001b[0;31m# get group indices\u001b[0m\u001b[0;34m\u001b[0m\u001b[0;34m\u001b[0m\u001b[0m\n\u001b[1;32m     12\u001b[0m     \u001b[0mgroup_indices\u001b[0m \u001b[0;34m=\u001b[0m \u001b[0mall_cat_index\u001b[0m\u001b[0;34m(\u001b[0m\u001b[0mdebias_train_df\u001b[0m\u001b[0;34m.\u001b[0m\u001b[0mvr_charge_degree\u001b[0m\u001b[0;34m,\u001b[0m \u001b[0mdebias_train_df\u001b[0m\u001b[0;34m.\u001b[0m\u001b[0mr_charge_degree\u001b[0m\u001b[0;34m)\u001b[0m\u001b[0;34m\u001b[0m\u001b[0;34m\u001b[0m\u001b[0m\n\u001b[1;32m     13\u001b[0m     \u001b[0;31m# center by group indices\u001b[0m\u001b[0;34m\u001b[0m\u001b[0;34m\u001b[0m\u001b[0m\n\u001b[0;32m---> 14\u001b[0;31m     \u001b[0mcentered_Y_train\u001b[0m \u001b[0;34m=\u001b[0m \u001b[0mcenter_by_homogeneous_subgroups\u001b[0m\u001b[0;34m(\u001b[0m\u001b[0mgroup_indices\u001b[0m\u001b[0;34m,\u001b[0m \u001b[0mY\u001b[0m\u001b[0;34m)\u001b[0m\u001b[0;34m\u001b[0m\u001b[0;34m\u001b[0m\u001b[0m\n\u001b[0m\u001b[1;32m     15\u001b[0m \u001b[0;34m\u001b[0m\u001b[0m\n\u001b[1;32m     16\u001b[0m     \u001b[0;31m# get estimate of A\u001b[0m\u001b[0;34m\u001b[0m\u001b[0;34m\u001b[0m\u001b[0m\n\u001b[1;32m     17\u001b[0m     \u001b[0mA_hat\u001b[0m\u001b[0;34m,\u001b[0m \u001b[0mb\u001b[0m \u001b[0;34m=\u001b[0m \u001b[0mestimate_A\u001b[0m\u001b[0;34m(\u001b[0m\u001b[0mcentered_Y_train\u001b[0m\u001b[0;34m,\u001b[0m \u001b[0mX_dummy_encoding\u001b[0m\u001b[0;34m,\u001b[0m \u001b[0;32mTrue\u001b[0m\u001b[0;34m)\u001b[0m\u001b[0;34m\u001b[0m\u001b[0;34m\u001b[0m\u001b[0m\n",
      "\u001b[0;32m/var/folders/q3/ztffc4r10tv5h4pftjr2qw0r0000gn/T/ipykernel_71503/3075992613.py\u001b[0m in \u001b[0;36m?\u001b[0;34m(group_indices, Y)\u001b[0m\n\u001b[1;32m      7\u001b[0m         \u001b[0mcentered\u001b[0m \u001b[0mY\u001b[0m\u001b[0;34m\u001b[0m\u001b[0;34m\u001b[0m\u001b[0m\n\u001b[1;32m      8\u001b[0m     '''\n\u001b[1;32m      9\u001b[0m     \u001b[0mG\u001b[0m \u001b[0;34m=\u001b[0m \u001b[0mpd\u001b[0m\u001b[0;34m.\u001b[0m\u001b[0mDataFrame\u001b[0m\u001b[0;34m(\u001b[0m\u001b[0mcolumns\u001b[0m\u001b[0;34m=\u001b[0m\u001b[0mlist\u001b[0m\u001b[0;34m(\u001b[0m\u001b[0mY\u001b[0m\u001b[0;34m)\u001b[0m\u001b[0;34m)\u001b[0m\u001b[0;34m\u001b[0m\u001b[0;34m\u001b[0m\u001b[0m\n\u001b[1;32m     10\u001b[0m     \u001b[0;32mfor\u001b[0m \u001b[0mg\u001b[0m \u001b[0;32min\u001b[0m  \u001b[0mgroup_indices\u001b[0m\u001b[0;34m:\u001b[0m\u001b[0;34m\u001b[0m\u001b[0;34m\u001b[0m\u001b[0m\n\u001b[0;32m---> 11\u001b[0;31m         \u001b[0mG\u001b[0m \u001b[0;34m=\u001b[0m \u001b[0mG\u001b[0m\u001b[0;34m.\u001b[0m\u001b[0mappend\u001b[0m\u001b[0;34m(\u001b[0m\u001b[0mY\u001b[0m\u001b[0;34m.\u001b[0m\u001b[0mloc\u001b[0m\u001b[0;34m[\u001b[0m\u001b[0mg\u001b[0m\u001b[0;34m]\u001b[0m \u001b[0;34m-\u001b[0m \u001b[0mY\u001b[0m\u001b[0;34m.\u001b[0m\u001b[0mloc\u001b[0m\u001b[0;34m[\u001b[0m\u001b[0mg\u001b[0m\u001b[0;34m]\u001b[0m\u001b[0;34m.\u001b[0m\u001b[0mmean\u001b[0m\u001b[0;34m(\u001b[0m\u001b[0;36m0\u001b[0m\u001b[0;34m)\u001b[0m\u001b[0;34m)\u001b[0m\u001b[0;34m\u001b[0m\u001b[0;34m\u001b[0m\u001b[0m\n\u001b[0m\u001b[1;32m     12\u001b[0m     \u001b[0mcentered_Y\u001b[0m \u001b[0;34m=\u001b[0m \u001b[0mG\u001b[0m\u001b[0;34m.\u001b[0m\u001b[0msort_index\u001b[0m\u001b[0;34m(\u001b[0m\u001b[0;36m0\u001b[0m\u001b[0;34m)\u001b[0m\u001b[0;34m\u001b[0m\u001b[0;34m\u001b[0m\u001b[0m\n\u001b[1;32m     13\u001b[0m \u001b[0;34m\u001b[0m\u001b[0m\n\u001b[1;32m     14\u001b[0m     \u001b[0;32mreturn\u001b[0m \u001b[0mcentered_Y\u001b[0m\u001b[0;34m\u001b[0m\u001b[0;34m\u001b[0m\u001b[0m\n",
      "\u001b[0;32m~/.local/share/virtualenvs/DeepLearning_bias_NLP-0fg-Vodk/lib/python3.9/site-packages/pandas/core/generic.py\u001b[0m in \u001b[0;36m?\u001b[0;34m(self, name)\u001b[0m\n\u001b[1;32m   6200\u001b[0m             \u001b[0;32mand\u001b[0m \u001b[0mname\u001b[0m \u001b[0;32mnot\u001b[0m \u001b[0;32min\u001b[0m \u001b[0mself\u001b[0m\u001b[0;34m.\u001b[0m\u001b[0m_accessors\u001b[0m\u001b[0;34m\u001b[0m\u001b[0;34m\u001b[0m\u001b[0m\n\u001b[1;32m   6201\u001b[0m             \u001b[0;32mand\u001b[0m \u001b[0mself\u001b[0m\u001b[0;34m.\u001b[0m\u001b[0m_info_axis\u001b[0m\u001b[0;34m.\u001b[0m\u001b[0m_can_hold_identifiers_and_holds_name\u001b[0m\u001b[0;34m(\u001b[0m\u001b[0mname\u001b[0m\u001b[0;34m)\u001b[0m\u001b[0;34m\u001b[0m\u001b[0;34m\u001b[0m\u001b[0m\n\u001b[1;32m   6202\u001b[0m         ):\n\u001b[1;32m   6203\u001b[0m             \u001b[0;32mreturn\u001b[0m \u001b[0mself\u001b[0m\u001b[0;34m[\u001b[0m\u001b[0mname\u001b[0m\u001b[0;34m]\u001b[0m\u001b[0;34m\u001b[0m\u001b[0;34m\u001b[0m\u001b[0m\n\u001b[0;32m-> 6204\u001b[0;31m         \u001b[0;32mreturn\u001b[0m \u001b[0mobject\u001b[0m\u001b[0;34m.\u001b[0m\u001b[0m__getattribute__\u001b[0m\u001b[0;34m(\u001b[0m\u001b[0mself\u001b[0m\u001b[0;34m,\u001b[0m \u001b[0mname\u001b[0m\u001b[0;34m)\u001b[0m\u001b[0;34m\u001b[0m\u001b[0;34m\u001b[0m\u001b[0m\n\u001b[0m",
      "\u001b[0;31mAttributeError\u001b[0m: 'DataFrame' object has no attribute 'append'"
     ]
    }
   ],
   "source": [
    "debias_train_size = 1000\n",
    "train_percentage_split = .6\n",
    "\n",
    "probs, probs_debiased, race, compas_decile_score, true_label = biased_debiased_probs(final_data, debias_train_size,  \n",
    "                                                                                     train_percentage_split)\n",
    "plot_prob_hist(probs, race)\n",
    "plot_prob_hist(probs_debiased, race)"
   ]
  },
  {
   "cell_type": "code",
   "execution_count": 18,
   "metadata": {
    "collapsed": true
   },
   "outputs": [],
   "source": [
    "def logistic_histogram_before_after_AA(probs, probs_debiased, race):\n",
    "    probabilities_AA = [probs[i] for i in np.where(race == 1)[0]]\n",
    "    probabilities_AA_debias = [probs_debiased[i] for i in np.where(race == 1)[0]]\n",
    "    \n",
    "    #plt.subplot(1,2,1)\n",
    "    plt.hist(probabilities_AA, bins = 25)\n",
    "    plt.title(\"Histogram of Raw Logistic Regression \\n Scores of African-Americans\")\n",
    "    plt.xlabel(\"probability from logistic regression\")\n",
    "    plt.ylabel(\"Number of African-Americans\")\n",
    "\n",
    "    #plt.subplot(1,2,2)\n",
    "    plt.show()\n",
    "    plt.hist(probabilities_AA_debias, bins = 25)\n",
    "    plt.title(\"Histogram of Debiased Logistic Regression \\n Scores of African-Americans\")\n",
    "\n",
    "    plt.xlabel(\"probability from logistic regression\")\n",
    "    plt.ylabel(\"Number of African-Americans\")\n",
    "    plt.tight_layout()\n",
    "    plt.show()\n",
    "\n",
    "\n",
    "    ax1 = plt.subplot(121)\n",
    "    ax1.set_ylim([0,140])\n",
    "    \n",
    "    plt.subplot(1,2,1)\n",
    "    plt.hist(probabilities_AA, bins = 25)\n",
    "    plt.title(\"Raw\")\n",
    "    plt.xlabel(\"probability from logistic regression\")\n",
    "    plt.ylabel(\"Number of African-Americans\")\n",
    "\n",
    "    plt.subplot(1,2,2)\n",
    "    #plt.show()\n",
    "    plt.hist(probabilities_AA_debias, bins = 25)\n",
    "    plt.title(\"Debiased\")\n",
    "\n",
    "    plt.xlabel(\"probability from logistic regression\")\n",
    "    plt.ylabel(\"Number of African-Americans\")\n",
    "    plt.tight_layout()\n",
    "    plt.savefig('histo.pdf', format='pdf', dpi=1000)\n",
    "    plt.ylim((0,140))\n",
    "    plt.show()"
   ]
  },
  {
   "cell_type": "code",
   "execution_count": 19,
   "metadata": {
    "collapsed": false
   },
   "outputs": [
    {
     "data": {
      "image/png": "[encoded data removed]",
      "text/plain": [
       "<matplotlib.figure.Figure at 0x1a135bff60>"
      ]
     },
     "metadata": {},
     "output_type": "display_data"
    },
    {
     "data": {
      "image/png": "[encoded data removed]",
      "text/plain": [
       "<matplotlib.figure.Figure at 0x1a135c6ef0>"
      ]
     },
     "metadata": {},
     "output_type": "display_data"
    },
    {
     "data": {
      "image/png": "[encoded data removed]",
      "text/plain": [
       "<matplotlib.figure.Figure at 0x1a137199e8>"
      ]
     },
     "metadata": {},
     "output_type": "display_data"
    }
   ],
   "source": [
    "logistic_histogram_before_after_AA(probs, probs_debiased, race)"
   ]
  },
  {
   "cell_type": "markdown",
   "metadata": {},
   "source": [
    "Now we look at ROC also under the same scenarios above."
   ]
  },
  {
   "cell_type": "code",
   "execution_count": 20,
   "metadata": {
    "collapsed": false
   },
   "outputs": [
    {
     "data": {
      "image/png": "[encoded data removed]",
      "text/plain": [
       "<matplotlib.figure.Figure at 0x1a080cf208>"
      ]
     },
     "metadata": {},
     "output_type": "display_data"
    },
    {
     "data": {
      "image/png": "[encoded data removed]",
      "text/plain": [
       "<matplotlib.figure.Figure at 0x1a0a298b00>"
      ]
     },
     "metadata": {},
     "output_type": "display_data"
    }
   ],
   "source": [
    "from sklearn.metrics import roc_curve, auc\n",
    "from sklearn.preprocessing import label_binarize\n",
    "\n",
    "probs, probs_debiased, race, compas_decile_score, true_label = biased_debiased_probs(final_data, debias_train_size,  \n",
    "                                                                                     train_percentage_split)\n",
    "\n",
    "compasFpr, compasTpr, _ = roc_curve(true_label, compas_decile_score)\n",
    "compasRocAuc = auc(compasFpr, compasTpr)\n",
    "\n",
    "logisticFpr, logisticTpr, _ = roc_curve(true_label, probs)\n",
    "logisticRocAuc = auc(logisticFpr, logisticTpr)\n",
    "\n",
    "logisticFpr_debiased, logisticTpr_debiased, _ = roc_curve(true_label, probs_debiased)\n",
    "logisticRocAuc_debiased = auc(logisticFpr_debiased, logisticTpr_debiased)\n",
    "\n",
    "plt.figure()\n",
    "plt.subplot(1,2,1)\n",
    "plt.plot(compasFpr, compasTpr, label='ROC curve \\n (area = %0.2f)' % compasRocAuc)\n",
    "plt.xlim([0.0, 1.0])\n",
    "plt.ylim([0.0, 1.05])\n",
    "plt.xlabel('FPR')\n",
    "plt.ylabel('TPR')\n",
    "plt.title('COMPAS scores ROC')\n",
    "plt.legend(loc=\"lower right\")\n",
    "plt.gca().set_aspect('equal', adjustable='box')\n",
    "#plt.show()\n",
    "\n",
    "plt.subplot(1,2,2)\n",
    "plt.plot(logisticFpr, logisticTpr, label='ROC curve \\n (area = %0.2f)' % logisticRocAuc)\n",
    "plt.xlim([0.0, 1.0])\n",
    "plt.ylim([0.0, 1.05])\n",
    "plt.xlabel('FPR')\n",
    "plt.ylabel('TPR')\n",
    "plt.title('Logistic Regression ROC \\n on Biased Data')\n",
    "plt.legend(loc=\"lower right\")\n",
    "plt.tight_layout()\n",
    "plt.gca().set_aspect('equal', adjustable='box')\n",
    "plt.show()\n",
    "\n",
    "plt.figure()\n",
    "plt.plot(logisticFpr_debiased, logisticTpr_debiased, label='ROC curve \\n (area = %0.2f)' % logisticRocAuc_debiased)\n",
    "plt.xlim([0.0, 1.0])\n",
    "plt.ylim([0.0, 1.05])\n",
    "plt.xlabel('FPR')\n",
    "plt.ylabel('TPR')\n",
    "plt.title('Logistic Regression ROC \\n on Debiased Data')\n",
    "plt.legend(loc=\"lower right\")\n",
    "plt.tight_layout()\n",
    "plt.gca().set_aspect('equal', adjustable='box')\n",
    "plt.show()"
   ]
  },
  {
   "cell_type": "code",
   "execution_count": 21,
   "metadata": {
    "collapsed": false
   },
   "outputs": [
    {
     "name": "stdout",
     "output_type": "stream",
     "text": [
      "                 COMPAS       LR raw                  \n",
      "                    FPR   FNR    FPR    SE   FNR    SE\n",
      "Population         0.08  0.69   0.33  0.01  0.32  0.01\n",
      "Caucasian          0.03  0.81   0.23  0.02  0.48  0.03\n",
      "African-American   0.12  0.63   0.41  0.02  0.24  0.01\n",
      "----------------\n",
      "                 COMPAS       LR debiased                  \n",
      "                    FPR   FNR         FPR    SE   FNR    SE\n",
      "Population         0.08  0.69        0.35  0.01  0.34  0.01\n",
      "Caucasian          0.03  0.81        0.44  0.03  0.31  0.03\n",
      "African-American   0.12  0.63        0.27  0.02  0.36  0.02\n",
      "-----------\n",
      "Average biased logistic regression accuracy: 0.68 SE: 0.01\n",
      "Average debiased logistic regression accuracy: 0.66 SE: 0.01\n",
      "Average COMPAS accuracy: 0.61 SE: 0.01\n",
      "-----------\n",
      "Average logistic regression biased threshold: 0.49\n",
      "Average logistic regression debiased threshold: 0.48\n"
     ]
    }
   ],
   "source": [
    "num_splits = 30\n",
    "compas_score_threshold = 8 # 5 for medium and high, 8 for high\n",
    "logistic_quantile = 50\n",
    "\n",
    "biased_accuracy = np.zeros(num_splits)\n",
    "debiased_accuracy = np.zeros(num_splits)\n",
    "compas_accuracy = np.zeros(num_splits)\n",
    "\n",
    "biased_logistic_regression_threshold = np.zeros(num_splits)\n",
    "debiased_logistic_regression_threshold = np.zeros(num_splits)\n",
    "\n",
    "# [pop_FPR, pop_FNR, white_FPR, white_FNR, black_FPR, black_FNR]\n",
    "rates_biased = np.zeros((num_splits,6))\n",
    "rates_debiased = np.zeros((num_splits,6))\n",
    "\n",
    "for i in range(num_splits):\n",
    "\n",
    "    probs, probs_debiased, race, compas_decile_score, recid_label = biased_debiased_probs(final_data, 1000, .6)\n",
    "    \n",
    "    risk_threshold_biased = get_logistic_threshold(probs, logistic_quantile)\n",
    "    biased_logistic_regression_threshold[i] = risk_threshold_biased\n",
    "    rates_biased[i,], biased_accuracy[i] = FPR_FNR_accuracy(recid_label, race, probs, risk_threshold_biased)\n",
    "    \n",
    "    risk_threshold_debiased = get_logistic_threshold(probs_debiased, logistic_quantile)\n",
    "    debiased_logistic_regression_threshold[i] = risk_threshold_debiased\n",
    "    rates_debiased[i,], debiased_accuracy[i] = FPR_FNR_accuracy(recid_label, \n",
    "                                                                race, \n",
    "                                                                probs_debiased, \n",
    "                                                                risk_threshold_debiased)\n",
    "    \n",
    "    compas_prediction = np.array([1 if x >= compas_score_threshold else 0 for x in compas_decile_score])\n",
    "    compas_accuracy[i] = sum(compas_prediction == recid_label) / len(recid_label)\n",
    "    \n",
    "compas_FPR_FNR, _ = FPR_FNR_accuracy(recid_label, race, compas_decile_score, compas_score_threshold)\n",
    "\n",
    "rate_debiased = np.mean(rates_debiased, axis=0)\n",
    "rate_biased = np.mean(rates_biased, axis=0)\n",
    "se_debiased = np.std(rates_debiased, axis=0)\n",
    "se_biased = np.std(rates_biased, axis=0)\n",
    "\n",
    "dfMatBiased = np.zeros((3,6))\n",
    "dfMatBiased[:,2:6:2] = np.reshape(rate_biased,(3,2)).round(2)\n",
    "dfMatBiased[:,3:7:2] = np.reshape(se_biased,(3,2)).round(2)\n",
    "dfMatBiased[:, 0:2] = np.reshape(compas_FPR_FNR, (3,2)).round(2)\n",
    "raw = dfMatBiased\n",
    "\n",
    "labels = [np.array(['COMPAS', 'COMPAS', 'LR raw', 'LR raw', 'LR raw', 'LR raw']),\n",
    "          np.array(['FPR', 'FNR', 'FPR', 'SE', 'FNR', 'SE'])]\n",
    "raw_df = pd.DataFrame(raw, index=['Population', 'Caucasian', 'African-American'], columns=labels)\n",
    "\n",
    "dfMatDebiased = np.zeros((3,6))\n",
    "dfMatDebiased[:,2:6:2] = np.reshape(rate_debiased,(3,2)).round(2)\n",
    "dfMatDebiased[:,3:7:2] = np.reshape(se_debiased,(3,2)).round(2)\n",
    "dfMatDebiased[:, 0:2] = np.reshape(compas_FPR_FNR, (3,2)).round(2)\n",
    "debiased = dfMatDebiased\n",
    "\n",
    "labels = [np.array(['COMPAS', 'COMPAS', 'LR debiased', 'LR debiased', 'LR debiased', 'LR debiased']),\n",
    "          np.array(['FPR', 'FNR', 'FPR', 'SE', 'FNR', 'SE'])]\n",
    "debiased_df = pd.DataFrame(debiased, index=['Population', 'Caucasian', 'African-American'], columns=labels)\n",
    "\n",
    "print(raw_df)\n",
    "print('----------------')\n",
    "print(debiased_df)\n",
    "print('-----------')\n",
    "print('Average biased logistic regression accuracy:', np.mean(biased_accuracy).round(2),\n",
    "      'SE:', np.std(biased_accuracy).round(2))\n",
    "print('Average debiased logistic regression accuracy:', np.mean(debiased_accuracy).round(2),\n",
    "      'SE:', np.std(debiased_accuracy).round(2))\n",
    "print('Average COMPAS accuracy:', np.mean(compas_accuracy).round(2), 'SE:', np.std(compas_accuracy).round(2))\n",
    "print('-----------')\n",
    "print('Average logistic regression biased threshold:', np.mean(biased_logistic_regression_threshold).round(2))\n",
    "print('Average logistic regression debiased threshold:', np.mean(debiased_logistic_regression_threshold).round(2))"
   ]
  },
  {
   "cell_type": "markdown",
   "metadata": {},
   "source": [
    "## Plot of difference of black/white FPR/FNR before and after debiasing"
   ]
  },
  {
   "cell_type": "code",
   "execution_count": 23,
   "metadata": {
    "collapsed": false,
    "scrolled": false
   },
   "outputs": [
    {
     "data": {
      "image/png": "[encoded data removed]",
      "text/plain": [
       "<matplotlib.figure.Figure at 0x1a0a4885c0>"
      ]
     },
     "metadata": {},
     "output_type": "display_data"
    },
    {
     "data": {
      "image/png": "[encoded data removed]",
      "text/plain": [
       "<matplotlib.figure.Figure at 0x1a13317cc0>"
      ]
     },
     "metadata": {},
     "output_type": "display_data"
    },
    {
     "data": {
      "image/png": "[encoded data removed]",
      "text/plain": [
       "<matplotlib.figure.Figure at 0x1a0a2782b0>"
      ]
     },
     "metadata": {},
     "output_type": "display_data"
    }
   ],
   "source": [
    "compas_score_threshold = 8 # 5 for medium and high, 8 for high\n",
    "logistic_thresholds = [.45 + .005*i for i in range(110)]\n",
    "\n",
    "biased_accuracy = np.zeros(len(logistic_thresholds))\n",
    "debiased_accuracy = np.zeros(len(logistic_thresholds))\n",
    "compas_accuracy = np.zeros(len(logistic_thresholds))\n",
    "\n",
    "# [pop_FPR, pop_FNR, white_FPR, white_FNR, black_FPR, black_FNR]\n",
    "rates_biased = np.zeros((len(logistic_thresholds),6))\n",
    "rates_debiased = np.zeros((len(logistic_thresholds),6))\n",
    "\n",
    "trials = 10\n",
    "\n",
    "for _ in range(trials):\n",
    "    for i in range(len(logistic_thresholds)):\n",
    "        probs, probs_debiased, race, compas_decile_score, recid_label = biased_debiased_probs(final_data, 1000, .6)\n",
    "        \n",
    "        temp_rates_biased, temp_biased_accuracy = FPR_FNR_accuracy(recid_label, race, probs, logistic_thresholds[i]) \n",
    "        rates_biased[i,] = [x + y for x, y in zip(rates_biased[i,], temp_rates_biased)]\n",
    "        biased_accuracy[i] += temp_biased_accuracy\n",
    "\n",
    "        temp_rates_debiased, temp_debiased_accuracy = FPR_FNR_accuracy(recid_label, \n",
    "                                                                    race, \n",
    "                                                                    probs_debiased, \n",
    "                                                                    logistic_thresholds[i])\n",
    "        rates_debiased[i,] = [x + y for x, y in zip(rates_debiased[i,], temp_rates_debiased)]\n",
    "        debiased_accuracy[i] += temp_debiased_accuracy        \n",
    "\n",
    "biased_accuracy = [i/trials for i in biased_accuracy]\n",
    "debiased_accuracy = [i/trials for i in debiased_accuracy]\n",
    "\n",
    "for i in range(len(logistic_thresholds)):\n",
    "    rates_biased[i,] = [j/trials for j in rates_biased[i,]]  \n",
    "    rates_debiased[i,] = [j/trials for j in rates_debiased[i,]] \n",
    "    \n",
    "    \n",
    "FPR_biased_dif = np.zeros(len(logistic_thresholds))\n",
    "FNR_biased_dif = np.zeros(len(logistic_thresholds))\n",
    "FPR_debiased_dif = np.zeros(len(logistic_thresholds))\n",
    "FNR_debiased_dif = np.zeros(len(logistic_thresholds))\n",
    "                           \n",
    "for i in range(len(logistic_thresholds)):\n",
    "    FPR_biased_dif[i] = rates_biased[i,4] - rates_biased[i,2]\n",
    "    FNR_biased_dif[i] = rates_biased[i,3] - rates_biased[i,5]\n",
    "\n",
    "    FPR_debiased_dif[i] = rates_debiased[i,4] - rates_debiased[i,2]\n",
    "    FNR_debiased_dif[i] = rates_debiased[i,5] - rates_debiased[i,3]                                    \n",
    "\n",
    "plt.figure()\n",
    "plt.plot(logistic_thresholds, FPR_biased_dif)\n",
    "plt.plot(logistic_thresholds, FPR_debiased_dif)\n",
    "# plt.plot(FPR_biased_dif, logisticTpr_debiased, label='ROC curve \\n (area = %0.2f)' % logisticRocAuc_debiased)\n",
    "# plt.xlim([0.0, 1.0])\n",
    "# plt.ylim([0.0, 1.05])\n",
    "plt.xlabel('threshold')\n",
    "plt.ylabel('FPR difference')\n",
    "plt.title('FPR difference (African-American - Caucasian) \\n Averaged over %0.0f data splits' % trials)\n",
    "plt.legend(['raw', 'debiased'], loc='upper right')\n",
    "plt.axhline(y=0.0, color='black', linestyle='-')\n",
    "# plt.legend(loc=\"lower right\")\n",
    "# plt.tight_layout()\n",
    "plt.show()\n",
    "\n",
    "plt.figure()\n",
    "\n",
    "plt.plot(logistic_thresholds, FNR_biased_dif)\n",
    "plt.plot(logistic_thresholds, FNR_debiased_dif)\n",
    "# plt.plot(FPR_biased_dif, logisticTpr_debiased, label='ROC curve \\n (area = %0.2f)' % logisticRocAuc_debiased)\n",
    "# plt.xlim([0.0, 1.0])\n",
    "# plt.ylim([0.0, 1.05])\n",
    "plt.xlabel('threshold')\n",
    "plt.ylabel('FNR difference')\n",
    "plt.title('FNR difference (Caucasian - African-American) \\n Averaged over %0.0f data splits' % trials)\n",
    "plt.legend(['raw', 'debiased'], loc='upper right')\n",
    "plt.axhline(y=0.0, color='black', linestyle='-')\n",
    "# plt.legend(loc=\"lower right\")\n",
    "# plt.tight_layout()\n",
    "plt.show()\n",
    "\n",
    "plt.figure()\n",
    "plt.plot(logistic_thresholds, biased_accuracy)\n",
    "plt.plot(logistic_thresholds, debiased_accuracy)\n",
    "plt.xlabel('threshold')\n",
    "plt.ylabel('accuracy')\n",
    "plt.title('Accuracy \\n averaged over %0.0f data splits' % trials)\n",
    "plt.legend(['raw', 'debiased'], loc='upper right')\n",
    "# plt.legend(loc=\"lower right\")\n",
    "# plt.tight_layout()\n",
    "plt.show()"
   ]
  },
  {
   "cell_type": "code",
   "execution_count": null,
   "metadata": {
    "collapsed": true
   },
   "outputs": [],
   "source": []
  }
 ],
 "metadata": {
  "kernelspec": {
   "display_name": "Python 3",
   "language": "python",
   "name": "python3"
  },
  "language_info": {
   "codemirror_mode": {
    "name": "ipython",
    "version": 3
   },
   "file_extension": ".py",
   "mimetype": "text/x-python",
   "name": "python",
   "nbconvert_exporter": "python",
   "pygments_lexer": "ipython3",
   "version": "3.9.18"
  }
 },
 "nbformat": 4,
 "nbformat_minor": 2
}
